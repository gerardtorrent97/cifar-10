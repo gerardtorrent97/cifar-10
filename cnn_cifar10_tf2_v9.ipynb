{
  "nbformat": 4,
  "nbformat_minor": 0,
  "metadata": {
    "kernelspec": {
      "display_name": "Python 3",
      "language": "python",
      "name": "python3"
    },
    "language_info": {
      "codemirror_mode": {
        "name": "ipython",
        "version": 3
      },
      "file_extension": ".py",
      "mimetype": "text/x-python",
      "name": "python",
      "nbconvert_exporter": "python",
      "pygments_lexer": "ipython3",
      "version": "3.8.5"
    },
    "colab": {
      "name": "cnn-cifar10-tf2-v1.ipynb",
      "provenance": []
    },
    "accelerator": "GPU"
  },
  "cells": [
    {
      "cell_type": "markdown",
      "metadata": {
        "jupyter": {
          "source_hidden": true
        },
        "id": "e5awq5ZU9oJn"
      },
      "source": [
        "## 1. Import Libraries"
      ]
    },
    {
      "cell_type": "code",
      "metadata": {
        "id": "6e89W2u_9oJo"
      },
      "source": [
        "from tensorflow import keras as ks\n",
        "from matplotlib import pyplot as plt\n",
        "import numpy as np\n",
        "import pandas as pd\n",
        "import time\n",
        "import random\n",
        "import datetime\n",
        "\n",
        "from tensorflow.keras.optimizers import Adam\n",
        "from tensorflow.keras.callbacks import EarlyStopping\n",
        "from tensorflow.keras.preprocessing.image import ImageDataGenerator, load_img\n",
        "\n",
        "from tensorflow.keras.applications import vgg16\n",
        "from tensorflow.keras.models import Model"
      ],
      "execution_count": 1,
      "outputs": []
    },
    {
      "cell_type": "markdown",
      "metadata": {
        "id": "Mv1C1hrrbGKj"
      },
      "source": [
        "# 2. VGG16 for Transfer Learning\n",
        "\n",
        "We are going to load the extraction feature part from the VGG16 architecture "
      ]
    },
    {
      "cell_type": "code",
      "metadata": {
        "id": "jw0wrEpmbFgI"
      },
      "source": [
        "vgg = vgg16.VGG16(include_top=False,\n",
        "                  weights=\"imagenet\",\n",
        "                  input_shape=(32, 32, 3)\n",
        "                  )"
      ],
      "execution_count": 2,
      "outputs": []
    },
    {
      "cell_type": "code",
      "metadata": {
        "id": "2avDfLv1b6Uw",
        "outputId": "55e1ee50-1e24-46f6-f13d-63c5ad58f590",
        "colab": {
          "base_uri": "https://localhost:8080/"
        }
      },
      "source": [
        "vgg.summary()"
      ],
      "execution_count": 3,
      "outputs": [
        {
          "output_type": "stream",
          "text": [
            "Model: \"vgg16\"\n",
            "_________________________________________________________________\n",
            "Layer (type)                 Output Shape              Param #   \n",
            "=================================================================\n",
            "input_1 (InputLayer)         [(None, 32, 32, 3)]       0         \n",
            "_________________________________________________________________\n",
            "block1_conv1 (Conv2D)        (None, 32, 32, 64)        1792      \n",
            "_________________________________________________________________\n",
            "block1_conv2 (Conv2D)        (None, 32, 32, 64)        36928     \n",
            "_________________________________________________________________\n",
            "block1_pool (MaxPooling2D)   (None, 16, 16, 64)        0         \n",
            "_________________________________________________________________\n",
            "block2_conv1 (Conv2D)        (None, 16, 16, 128)       73856     \n",
            "_________________________________________________________________\n",
            "block2_conv2 (Conv2D)        (None, 16, 16, 128)       147584    \n",
            "_________________________________________________________________\n",
            "block2_pool (MaxPooling2D)   (None, 8, 8, 128)         0         \n",
            "_________________________________________________________________\n",
            "block3_conv1 (Conv2D)        (None, 8, 8, 256)         295168    \n",
            "_________________________________________________________________\n",
            "block3_conv2 (Conv2D)        (None, 8, 8, 256)         590080    \n",
            "_________________________________________________________________\n",
            "block3_conv3 (Conv2D)        (None, 8, 8, 256)         590080    \n",
            "_________________________________________________________________\n",
            "block3_pool (MaxPooling2D)   (None, 4, 4, 256)         0         \n",
            "_________________________________________________________________\n",
            "block4_conv1 (Conv2D)        (None, 4, 4, 512)         1180160   \n",
            "_________________________________________________________________\n",
            "block4_conv2 (Conv2D)        (None, 4, 4, 512)         2359808   \n",
            "_________________________________________________________________\n",
            "block4_conv3 (Conv2D)        (None, 4, 4, 512)         2359808   \n",
            "_________________________________________________________________\n",
            "block4_pool (MaxPooling2D)   (None, 2, 2, 512)         0         \n",
            "_________________________________________________________________\n",
            "block5_conv1 (Conv2D)        (None, 2, 2, 512)         2359808   \n",
            "_________________________________________________________________\n",
            "block5_conv2 (Conv2D)        (None, 2, 2, 512)         2359808   \n",
            "_________________________________________________________________\n",
            "block5_conv3 (Conv2D)        (None, 2, 2, 512)         2359808   \n",
            "_________________________________________________________________\n",
            "block5_pool (MaxPooling2D)   (None, 1, 1, 512)         0         \n",
            "=================================================================\n",
            "Total params: 14,714,688\n",
            "Trainable params: 14,714,688\n",
            "Non-trainable params: 0\n",
            "_________________________________________________________________\n"
          ],
          "name": "stdout"
        }
      ]
    },
    {
      "cell_type": "code",
      "metadata": {
        "id": "bsRKvgWXb832"
      },
      "source": [
        "output = vgg.layers[-1].output\n",
        "new_output_layer = ks.layers.Flatten()(output)\n",
        "vgg_model = Model(vgg.input, new_output_layer)"
      ],
      "execution_count": 4,
      "outputs": []
    },
    {
      "cell_type": "code",
      "metadata": {
        "id": "VNQ4JQmDcKhs",
        "outputId": "98f224b0-2cd1-43e5-cb7a-2e60bc8a81b7",
        "colab": {
          "base_uri": "https://localhost:8080/"
        }
      },
      "source": [
        "vgg_model.summary()"
      ],
      "execution_count": 5,
      "outputs": [
        {
          "output_type": "stream",
          "text": [
            "Model: \"model\"\n",
            "_________________________________________________________________\n",
            "Layer (type)                 Output Shape              Param #   \n",
            "=================================================================\n",
            "input_1 (InputLayer)         [(None, 32, 32, 3)]       0         \n",
            "_________________________________________________________________\n",
            "block1_conv1 (Conv2D)        (None, 32, 32, 64)        1792      \n",
            "_________________________________________________________________\n",
            "block1_conv2 (Conv2D)        (None, 32, 32, 64)        36928     \n",
            "_________________________________________________________________\n",
            "block1_pool (MaxPooling2D)   (None, 16, 16, 64)        0         \n",
            "_________________________________________________________________\n",
            "block2_conv1 (Conv2D)        (None, 16, 16, 128)       73856     \n",
            "_________________________________________________________________\n",
            "block2_conv2 (Conv2D)        (None, 16, 16, 128)       147584    \n",
            "_________________________________________________________________\n",
            "block2_pool (MaxPooling2D)   (None, 8, 8, 128)         0         \n",
            "_________________________________________________________________\n",
            "block3_conv1 (Conv2D)        (None, 8, 8, 256)         295168    \n",
            "_________________________________________________________________\n",
            "block3_conv2 (Conv2D)        (None, 8, 8, 256)         590080    \n",
            "_________________________________________________________________\n",
            "block3_conv3 (Conv2D)        (None, 8, 8, 256)         590080    \n",
            "_________________________________________________________________\n",
            "block3_pool (MaxPooling2D)   (None, 4, 4, 256)         0         \n",
            "_________________________________________________________________\n",
            "block4_conv1 (Conv2D)        (None, 4, 4, 512)         1180160   \n",
            "_________________________________________________________________\n",
            "block4_conv2 (Conv2D)        (None, 4, 4, 512)         2359808   \n",
            "_________________________________________________________________\n",
            "block4_conv3 (Conv2D)        (None, 4, 4, 512)         2359808   \n",
            "_________________________________________________________________\n",
            "block4_pool (MaxPooling2D)   (None, 2, 2, 512)         0         \n",
            "_________________________________________________________________\n",
            "block5_conv1 (Conv2D)        (None, 2, 2, 512)         2359808   \n",
            "_________________________________________________________________\n",
            "block5_conv2 (Conv2D)        (None, 2, 2, 512)         2359808   \n",
            "_________________________________________________________________\n",
            "block5_conv3 (Conv2D)        (None, 2, 2, 512)         2359808   \n",
            "_________________________________________________________________\n",
            "block5_pool (MaxPooling2D)   (None, 1, 1, 512)         0         \n",
            "_________________________________________________________________\n",
            "flatten (Flatten)            (None, 512)               0         \n",
            "=================================================================\n",
            "Total params: 14,714,688\n",
            "Trainable params: 14,714,688\n",
            "Non-trainable params: 0\n",
            "_________________________________________________________________\n"
          ],
          "name": "stdout"
        }
      ]
    },
    {
      "cell_type": "code",
      "metadata": {
        "id": "v6je5UKYcOBf"
      },
      "source": [
        "vgg_model.trainable = False\n",
        "\n",
        "for layer in vgg_model.layers:\n",
        "  layer.trainable = False\n",
        "\n",
        "trainable = False\n",
        "for layer in vgg_model.layers:\n",
        "  if layer.name == \"block4_conv1\":\n",
        "    trainable = True\n",
        "  layer.trainable = trainable"
      ],
      "execution_count": 6,
      "outputs": []
    },
    {
      "cell_type": "code",
      "metadata": {
        "id": "OytB1e3WcRlv",
        "outputId": "7b5486ce-9a92-4981-fc72-d3acb21bee77",
        "colab": {
          "base_uri": "https://localhost:8080/",
          "height": 669
        }
      },
      "source": [
        "pd.set_option(\"max_colwidth\", None)\n",
        "layers = [(layer, layer.name, layer.trainable) for layer in vgg_model.layers]\n",
        "pd.DataFrame(layers, columns=[\"Layer Type\", \"Layer Name\", \"Layer Trainable\"])"
      ],
      "execution_count": 7,
      "outputs": [
        {
          "output_type": "execute_result",
          "data": {
            "text/html": [
              "<div>\n",
              "<style scoped>\n",
              "    .dataframe tbody tr th:only-of-type {\n",
              "        vertical-align: middle;\n",
              "    }\n",
              "\n",
              "    .dataframe tbody tr th {\n",
              "        vertical-align: top;\n",
              "    }\n",
              "\n",
              "    .dataframe thead th {\n",
              "        text-align: right;\n",
              "    }\n",
              "</style>\n",
              "<table border=\"1\" class=\"dataframe\">\n",
              "  <thead>\n",
              "    <tr style=\"text-align: right;\">\n",
              "      <th></th>\n",
              "      <th>Layer Type</th>\n",
              "      <th>Layer Name</th>\n",
              "      <th>Layer Trainable</th>\n",
              "    </tr>\n",
              "  </thead>\n",
              "  <tbody>\n",
              "    <tr>\n",
              "      <th>0</th>\n",
              "      <td>&lt;tensorflow.python.keras.engine.input_layer.InputLayer object at 0x7f45da4d1510&gt;</td>\n",
              "      <td>input_1</td>\n",
              "      <td>False</td>\n",
              "    </tr>\n",
              "    <tr>\n",
              "      <th>1</th>\n",
              "      <td>&lt;tensorflow.python.keras.layers.convolutional.Conv2D object at 0x7f45d45bb3d0&gt;</td>\n",
              "      <td>block1_conv1</td>\n",
              "      <td>False</td>\n",
              "    </tr>\n",
              "    <tr>\n",
              "      <th>2</th>\n",
              "      <td>&lt;tensorflow.python.keras.layers.convolutional.Conv2D object at 0x7f45d45e4150&gt;</td>\n",
              "      <td>block1_conv2</td>\n",
              "      <td>False</td>\n",
              "    </tr>\n",
              "    <tr>\n",
              "      <th>3</th>\n",
              "      <td>&lt;tensorflow.python.keras.layers.pooling.MaxPooling2D object at 0x7f45d37f5f50&gt;</td>\n",
              "      <td>block1_pool</td>\n",
              "      <td>False</td>\n",
              "    </tr>\n",
              "    <tr>\n",
              "      <th>4</th>\n",
              "      <td>&lt;tensorflow.python.keras.layers.convolutional.Conv2D object at 0x7f45c0077790&gt;</td>\n",
              "      <td>block2_conv1</td>\n",
              "      <td>False</td>\n",
              "    </tr>\n",
              "    <tr>\n",
              "      <th>5</th>\n",
              "      <td>&lt;tensorflow.python.keras.layers.convolutional.Conv2D object at 0x7f45c0083350&gt;</td>\n",
              "      <td>block2_conv2</td>\n",
              "      <td>False</td>\n",
              "    </tr>\n",
              "    <tr>\n",
              "      <th>6</th>\n",
              "      <td>&lt;tensorflow.python.keras.layers.pooling.MaxPooling2D object at 0x7f45c0077a50&gt;</td>\n",
              "      <td>block2_pool</td>\n",
              "      <td>False</td>\n",
              "    </tr>\n",
              "    <tr>\n",
              "      <th>7</th>\n",
              "      <td>&lt;tensorflow.python.keras.layers.convolutional.Conv2D object at 0x7f45c0088ed0&gt;</td>\n",
              "      <td>block3_conv1</td>\n",
              "      <td>False</td>\n",
              "    </tr>\n",
              "    <tr>\n",
              "      <th>8</th>\n",
              "      <td>&lt;tensorflow.python.keras.layers.convolutional.Conv2D object at 0x7f45c00914d0&gt;</td>\n",
              "      <td>block3_conv2</td>\n",
              "      <td>False</td>\n",
              "    </tr>\n",
              "    <tr>\n",
              "      <th>9</th>\n",
              "      <td>&lt;tensorflow.python.keras.layers.convolutional.Conv2D object at 0x7f45c0094a10&gt;</td>\n",
              "      <td>block3_conv3</td>\n",
              "      <td>False</td>\n",
              "    </tr>\n",
              "    <tr>\n",
              "      <th>10</th>\n",
              "      <td>&lt;tensorflow.python.keras.layers.pooling.MaxPooling2D object at 0x7f45c00882d0&gt;</td>\n",
              "      <td>block3_pool</td>\n",
              "      <td>False</td>\n",
              "    </tr>\n",
              "    <tr>\n",
              "      <th>11</th>\n",
              "      <td>&lt;tensorflow.python.keras.layers.convolutional.Conv2D object at 0x7f45c0096890&gt;</td>\n",
              "      <td>block4_conv1</td>\n",
              "      <td>True</td>\n",
              "    </tr>\n",
              "    <tr>\n",
              "      <th>12</th>\n",
              "      <td>&lt;tensorflow.python.keras.layers.convolutional.Conv2D object at 0x7f45c00a64d0&gt;</td>\n",
              "      <td>block4_conv2</td>\n",
              "      <td>True</td>\n",
              "    </tr>\n",
              "    <tr>\n",
              "      <th>13</th>\n",
              "      <td>&lt;tensorflow.python.keras.layers.convolutional.Conv2D object at 0x7f45c0096bd0&gt;</td>\n",
              "      <td>block4_conv3</td>\n",
              "      <td>True</td>\n",
              "    </tr>\n",
              "    <tr>\n",
              "      <th>14</th>\n",
              "      <td>&lt;tensorflow.python.keras.layers.pooling.MaxPooling2D object at 0x7f45c0077ed0&gt;</td>\n",
              "      <td>block4_pool</td>\n",
              "      <td>True</td>\n",
              "    </tr>\n",
              "    <tr>\n",
              "      <th>15</th>\n",
              "      <td>&lt;tensorflow.python.keras.layers.convolutional.Conv2D object at 0x7f4615e62750&gt;</td>\n",
              "      <td>block5_conv1</td>\n",
              "      <td>True</td>\n",
              "    </tr>\n",
              "    <tr>\n",
              "      <th>16</th>\n",
              "      <td>&lt;tensorflow.python.keras.layers.convolutional.Conv2D object at 0x7f45d38dec10&gt;</td>\n",
              "      <td>block5_conv2</td>\n",
              "      <td>True</td>\n",
              "    </tr>\n",
              "    <tr>\n",
              "      <th>17</th>\n",
              "      <td>&lt;tensorflow.python.keras.layers.convolutional.Conv2D object at 0x7f45d3925dd0&gt;</td>\n",
              "      <td>block5_conv3</td>\n",
              "      <td>True</td>\n",
              "    </tr>\n",
              "    <tr>\n",
              "      <th>18</th>\n",
              "      <td>&lt;tensorflow.python.keras.layers.pooling.MaxPooling2D object at 0x7f45da41ebd0&gt;</td>\n",
              "      <td>block5_pool</td>\n",
              "      <td>True</td>\n",
              "    </tr>\n",
              "    <tr>\n",
              "      <th>19</th>\n",
              "      <td>&lt;tensorflow.python.keras.layers.core.Flatten object at 0x7f461a813c50&gt;</td>\n",
              "      <td>flatten</td>\n",
              "      <td>True</td>\n",
              "    </tr>\n",
              "  </tbody>\n",
              "</table>\n",
              "</div>"
            ],
            "text/plain": [
              "                                                                          Layer Type  ... Layer Trainable\n",
              "0   <tensorflow.python.keras.engine.input_layer.InputLayer object at 0x7f45da4d1510>  ...           False\n",
              "1     <tensorflow.python.keras.layers.convolutional.Conv2D object at 0x7f45d45bb3d0>  ...           False\n",
              "2     <tensorflow.python.keras.layers.convolutional.Conv2D object at 0x7f45d45e4150>  ...           False\n",
              "3     <tensorflow.python.keras.layers.pooling.MaxPooling2D object at 0x7f45d37f5f50>  ...           False\n",
              "4     <tensorflow.python.keras.layers.convolutional.Conv2D object at 0x7f45c0077790>  ...           False\n",
              "5     <tensorflow.python.keras.layers.convolutional.Conv2D object at 0x7f45c0083350>  ...           False\n",
              "6     <tensorflow.python.keras.layers.pooling.MaxPooling2D object at 0x7f45c0077a50>  ...           False\n",
              "7     <tensorflow.python.keras.layers.convolutional.Conv2D object at 0x7f45c0088ed0>  ...           False\n",
              "8     <tensorflow.python.keras.layers.convolutional.Conv2D object at 0x7f45c00914d0>  ...           False\n",
              "9     <tensorflow.python.keras.layers.convolutional.Conv2D object at 0x7f45c0094a10>  ...           False\n",
              "10    <tensorflow.python.keras.layers.pooling.MaxPooling2D object at 0x7f45c00882d0>  ...           False\n",
              "11    <tensorflow.python.keras.layers.convolutional.Conv2D object at 0x7f45c0096890>  ...            True\n",
              "12    <tensorflow.python.keras.layers.convolutional.Conv2D object at 0x7f45c00a64d0>  ...            True\n",
              "13    <tensorflow.python.keras.layers.convolutional.Conv2D object at 0x7f45c0096bd0>  ...            True\n",
              "14    <tensorflow.python.keras.layers.pooling.MaxPooling2D object at 0x7f45c0077ed0>  ...            True\n",
              "15    <tensorflow.python.keras.layers.convolutional.Conv2D object at 0x7f4615e62750>  ...            True\n",
              "16    <tensorflow.python.keras.layers.convolutional.Conv2D object at 0x7f45d38dec10>  ...            True\n",
              "17    <tensorflow.python.keras.layers.convolutional.Conv2D object at 0x7f45d3925dd0>  ...            True\n",
              "18    <tensorflow.python.keras.layers.pooling.MaxPooling2D object at 0x7f45da41ebd0>  ...            True\n",
              "19            <tensorflow.python.keras.layers.core.Flatten object at 0x7f461a813c50>  ...            True\n",
              "\n",
              "[20 rows x 3 columns]"
            ]
          },
          "metadata": {
            "tags": []
          },
          "execution_count": 7
        }
      ]
    },
    {
      "cell_type": "markdown",
      "metadata": {
        "id": "6_dptlpJ9oJp"
      },
      "source": [
        "## 2. Neural Newtork Architecture\n"
      ]
    },
    {
      "cell_type": "code",
      "metadata": {
        "id": "2QdNlU2cdGx8",
        "outputId": "2dc15a11-3af7-44e1-b4b0-0429c8c156b8",
        "colab": {
          "base_uri": "https://localhost:8080/"
        }
      },
      "source": [
        "input_shape = vgg_model.output_shape[1]\n",
        "print(f\"Input shape: {input_shape}\")"
      ],
      "execution_count": 8,
      "outputs": [
        {
          "output_type": "stream",
          "text": [
            "Input shape: 512\n"
          ],
          "name": "stdout"
        }
      ]
    },
    {
      "cell_type": "code",
      "metadata": {
        "id": "JoDemzDV9oJp"
      },
      "source": [
        "model_post_vgg = ks.Sequential()\n",
        "\n",
        "model_post_vgg.add(vgg_model)\n",
        "\n",
        "model_post_vgg.add(ks.layers.Dense(128, activation=\"relu\", input_shape=(input_shape,)))\n",
        "model_post_vgg.add(ks.layers.BatchNormalization())\n",
        "model_post_vgg.add(ks.layers.Dropout(0.3))\n",
        "\n",
        "model_post_vgg.add(ks.layers.Dense(256, activation=\"relu\", input_shape=(input_shape,)))\n",
        "model_post_vgg.add(ks.layers.BatchNormalization())\n",
        "model_post_vgg.add(ks.layers.Dropout(0.3))\n",
        "\n",
        "model_post_vgg.add(ks.layers.Dense(512, activation=\"relu\"))\n",
        "model_post_vgg.add(ks.layers.BatchNormalization())\n",
        "model_post_vgg.add(ks.layers.Dropout(0.3))\n",
        "\n",
        "model_post_vgg.add(ks.layers.Dense(1024, activation=\"relu\"))\n",
        "model_post_vgg.add(ks.layers.BatchNormalization())\n",
        "model_post_vgg.add(ks.layers.Dropout(0.3))\n",
        "\n",
        "model_post_vgg.add(ks.layers.Dense(10, activation=\"softmax\"))"
      ],
      "execution_count": 9,
      "outputs": []
    },
    {
      "cell_type": "code",
      "metadata": {
        "id": "QPzKurY89oJq",
        "colab": {
          "base_uri": "https://localhost:8080/"
        },
        "outputId": "a13d9fc2-448d-4b74-c54f-c286686ede70"
      },
      "source": [
        "model_post_vgg.summary()"
      ],
      "execution_count": 10,
      "outputs": [
        {
          "output_type": "stream",
          "text": [
            "Model: \"sequential\"\n",
            "_________________________________________________________________\n",
            "Layer (type)                 Output Shape              Param #   \n",
            "=================================================================\n",
            "model (Functional)           (None, 512)               14714688  \n",
            "_________________________________________________________________\n",
            "dense (Dense)                (None, 128)               65664     \n",
            "_________________________________________________________________\n",
            "batch_normalization (BatchNo (None, 128)               512       \n",
            "_________________________________________________________________\n",
            "dropout (Dropout)            (None, 128)               0         \n",
            "_________________________________________________________________\n",
            "dense_1 (Dense)              (None, 256)               33024     \n",
            "_________________________________________________________________\n",
            "batch_normalization_1 (Batch (None, 256)               1024      \n",
            "_________________________________________________________________\n",
            "dropout_1 (Dropout)          (None, 256)               0         \n",
            "_________________________________________________________________\n",
            "dense_2 (Dense)              (None, 512)               131584    \n",
            "_________________________________________________________________\n",
            "batch_normalization_2 (Batch (None, 512)               2048      \n",
            "_________________________________________________________________\n",
            "dropout_2 (Dropout)          (None, 512)               0         \n",
            "_________________________________________________________________\n",
            "dense_3 (Dense)              (None, 1024)              525312    \n",
            "_________________________________________________________________\n",
            "batch_normalization_3 (Batch (None, 1024)              4096      \n",
            "_________________________________________________________________\n",
            "dropout_3 (Dropout)          (None, 1024)              0         \n",
            "_________________________________________________________________\n",
            "dense_4 (Dense)              (None, 10)                10250     \n",
            "=================================================================\n",
            "Total params: 15,488,202\n",
            "Trainable params: 769,674\n",
            "Non-trainable params: 14,718,528\n",
            "_________________________________________________________________\n"
          ],
          "name": "stdout"
        }
      ]
    },
    {
      "cell_type": "markdown",
      "metadata": {
        "id": "Y6bEaf7l9oJq"
      },
      "source": [
        "## 3. Cost function\n"
      ]
    },
    {
      "cell_type": "code",
      "metadata": {
        "id": "iKnB28w0diit"
      },
      "source": [
        "adam = Adam(learning_rate=2e-5)"
      ],
      "execution_count": 11,
      "outputs": []
    },
    {
      "cell_type": "code",
      "metadata": {
        "id": "eDfwXObn9oJr"
      },
      "source": [
        "model_post_vgg.compile(optimizer=adam,\n",
        "              loss=\"sparse_categorical_crossentropy\",\n",
        "              metrics=[\"accuracy\"])"
      ],
      "execution_count": 12,
      "outputs": []
    },
    {
      "cell_type": "markdown",
      "metadata": {
        "id": "qHBg7wfE9oJr"
      },
      "source": [
        "## 4. Data Preparation\n",
        "\n",
        "We load the CIFAR10 dataset directly from Keras. Those are already split in train and test.\n",
        "\n",
        "\n",
        "**Important:** \n",
        "> The neural network requires for the inputs to be real numbers. We can simply achieve this by divinding the values inside the matrices by 255.0."
      ]
    },
    {
      "cell_type": "code",
      "metadata": {
        "id": "9mZWEbQc9oJr"
      },
      "source": [
        "cifar10 = ks.datasets.cifar10\n",
        "\n",
        "(x_train, y_train), (x_test, y_test) = cifar10.load_data()\n",
        "\n",
        "x_train, x_test = x_train / 255.0, x_test / 255.0"
      ],
      "execution_count": 13,
      "outputs": []
    },
    {
      "cell_type": "code",
      "metadata": {
        "id": "j8A9za5z9oJr",
        "colab": {
          "base_uri": "https://localhost:8080/"
        },
        "outputId": "1d7fddb7-1d12-4c6c-a206-841d71cfd8d6"
      },
      "source": [
        "y_train_label = y_train\n",
        "\n",
        "#y_test = ks.utils.to_categorical(y_test)\n",
        "#y_train = ks.utils.to_categorical(y_train)\n",
        "\n",
        "y_test\n",
        "y_train"
      ],
      "execution_count": 14,
      "outputs": [
        {
          "output_type": "execute_result",
          "data": {
            "text/plain": [
              "array([[6],\n",
              "       [9],\n",
              "       [9],\n",
              "       ...,\n",
              "       [9],\n",
              "       [1],\n",
              "       [1]], dtype=uint8)"
            ]
          },
          "metadata": {
            "tags": []
          },
          "execution_count": 14
        }
      ]
    },
    {
      "cell_type": "code",
      "metadata": {
        "id": "EJR1ydE99oJs",
        "colab": {
          "base_uri": "https://localhost:8080/"
        },
        "outputId": "72b5cff5-1701-4be0-e258-620f41916c3a"
      },
      "source": [
        "cifar10_labels = [\n",
        "'airplane', # id 0\n",
        "'automobile',\n",
        "'bird',\n",
        "'cat',\n",
        "'deer',\n",
        "'dog',\n",
        "'frog',\n",
        "'horse',\n",
        "'ship',\n",
        "'truck',\n",
        "]\n",
        "\n",
        "print('Number of labels: %s' % len(cifar10_labels))"
      ],
      "execution_count": 15,
      "outputs": [
        {
          "output_type": "stream",
          "text": [
            "Number of labels: 10\n"
          ],
          "name": "stdout"
        }
      ]
    },
    {
      "cell_type": "code",
      "metadata": {
        "id": "9-Dk8dgQ9oJs",
        "colab": {
          "base_uri": "https://localhost:8080/",
          "height": 315
        },
        "outputId": "5c8e050f-9ecf-47b4-dd9e-330f90008114"
      },
      "source": [
        "# Let's plot a sample of the images\n",
        "\n",
        "print('Train: X=%s, y=%s' % (x_train.shape, y_train.shape))\n",
        "print('Test: X=%s, y=%s' % (x_test.shape, y_test.shape))\n",
        "\n",
        "for i in range(9):\n",
        "\n",
        "    plt.subplot(330 + 1 + i)\n",
        "    plt.imshow(x_train[i], cmap=plt.get_cmap('gray'))\n",
        "    plt.title(cifar10_labels[y_train_label[i,0]])\n",
        "\n",
        "plt.subplots_adjust(hspace = 1)\n",
        "plt.show()"
      ],
      "execution_count": 16,
      "outputs": [
        {
          "output_type": "stream",
          "text": [
            "Train: X=(50000, 32, 32, 3), y=(50000, 1)\n",
            "Test: X=(10000, 32, 32, 3), y=(10000, 1)\n"
          ],
          "name": "stdout"
        },
        {
          "output_type": "display_data",
          "data": {
            "image/png": "[encoded data removed]",
            "text/plain": [
              "<Figure size 432x288 with 9 Axes>"
            ]
          },
          "metadata": {
            "tags": [],
            "needs_background": "light"
          }
        }
      ]
    },
    {
      "cell_type": "code",
      "metadata": {
        "id": "ll_ESZXN9oJt"
      },
      "source": [
        "x_val = x_train[-10000:]\n",
        "y_val = y_train[-10000:]\n",
        "\n",
        "x_train = x_train[:-10000]\n",
        "y_train = y_train[:-10000]\n"
      ],
      "execution_count": 17,
      "outputs": []
    },
    {
      "cell_type": "markdown",
      "metadata": {
        "id": "857gyhgz9oJt"
      },
      "source": [
        "When we add convolutions, we need to preprocess the data, because **convolution is for an array of 4 fields** (more like \"images\"), not an array of 3 dimensions as the datasets for train, test and validation. So we need to **.reshape()**.\n",
        "\n",
        "That's why, when you exit the convolution, you have to flatten the matrices, because the FullDense layers expect arrays, not matrices!\n"
      ]
    },
    {
      "cell_type": "code",
      "metadata": {
        "id": "GsD9N7Jf9oJt",
        "colab": {
          "base_uri": "https://localhost:8080/"
        },
        "outputId": "e67e6da5-bd28-496f-e0b6-b4b30b0ded14"
      },
      "source": [
        "# Let's validate the results\n",
        "print('Train: X=%s, y=%s' % (x_train.shape, y_train.shape))\n",
        "print('Test: X=%s, y=%s' % (x_test.shape, y_test.shape))\n",
        "print('Validation: X=%s, y=%s' % (x_val.shape, y_val.shape))"
      ],
      "execution_count": 18,
      "outputs": [
        {
          "output_type": "stream",
          "text": [
            "Train: X=(40000, 32, 32, 3), y=(40000, 1)\n",
            "Test: X=(10000, 32, 32, 3), y=(10000, 1)\n",
            "Validation: X=(10000, 32, 32, 3), y=(10000, 1)\n"
          ],
          "name": "stdout"
        }
      ]
    },
    {
      "cell_type": "markdown",
      "metadata": {
        "id": "RS5qn76YhnHE"
      },
      "source": [
        "# 4. Early Stopping & Checkpoint"
      ]
    },
    {
      "cell_type": "code",
      "metadata": {
        "id": "utspmyp9hmQc"
      },
      "source": [
        "callback_loss = EarlyStopping(monitor=\"val_loss\", patience=15)\n",
        "callback_accuracy = EarlyStopping(monitor=\"val_accuracy\", patience=10)"
      ],
      "execution_count": 19,
      "outputs": []
    },
    {
      "cell_type": "code",
      "metadata": {
        "id": "YvT7bA24JWn_"
      },
      "source": [
        "checkpoint_filepath = '/tmp/checkpoint'\n",
        "model_checkpoint_callback = ks.callbacks.ModelCheckpoint(\n",
        "    filepath=checkpoint_filepath,\n",
        "    save_weights_only=True,\n",
        "    monitor='val_accuracy',\n",
        "    mode='max',\n",
        "    save_best_only=True)"
      ],
      "execution_count": 20,
      "outputs": []
    },
    {
      "cell_type": "markdown",
      "metadata": {
        "id": "x4CSQVcD9oJu"
      },
      "source": [
        "## 5. Training\n",
        "\n",
        "Note that we have to train against the data converted to the format expected by the Convolution.\n",
        "\n",
        "We will start with 30 epochs, that is to say, 30 complete passes of the dataset (which in turn will be with mini-batches internally, setting the batches to 64 elements.\n",
        "\n",
        "The .fit() method allows us to define if we have several CPUs, GPUs, and if we want to validate data at each end of epoch."
      ]
    },
    {
      "cell_type": "code",
      "metadata": {
        "id": "WVDxMUFK9oJu"
      },
      "source": [
        "t = time.perf_counter()"
      ],
      "execution_count": 21,
      "outputs": []
    },
    {
      "cell_type": "code",
      "metadata": {
        "id": "ecp-nOVj9oJu",
        "colab": {
          "base_uri": "https://localhost:8080/"
        },
        "outputId": "1cfd3737-ca30-4b36-9997-620d650f44e9"
      },
      "source": [
        "history = model_post_vgg.fit(x_train, y_train, \n",
        "                    epochs=300, \n",
        "                    use_multiprocessing=False, \n",
        "                    batch_size= 512, \n",
        "                    callbacks=[callback_accuracy, callback_loss, model_checkpoint_callback],\n",
        "                    validation_data=(x_val, y_val))"
      ],
      "execution_count": 22,
      "outputs": [
        {
          "output_type": "stream",
          "text": [
            "Epoch 1/300\n",
            "79/79 [==============================] - 14s 91ms/step - loss: 3.0374 - accuracy: 0.1388 - val_loss: 2.2898 - val_accuracy: 0.1099\n",
            "Epoch 2/300\n",
            "79/79 [==============================] - 5s 58ms/step - loss: 2.6924 - accuracy: 0.1902 - val_loss: 2.1763 - val_accuracy: 0.1308\n",
            "Epoch 3/300\n",
            "79/79 [==============================] - 5s 59ms/step - loss: 2.5355 - accuracy: 0.2256 - val_loss: 2.0089 - val_accuracy: 0.2314\n",
            "Epoch 4/300\n",
            "79/79 [==============================] - 5s 59ms/step - loss: 2.4363 - accuracy: 0.2479 - val_loss: 1.8606 - val_accuracy: 0.3298\n",
            "Epoch 5/300\n",
            "79/79 [==============================] - 5s 60ms/step - loss: 2.3689 - accuracy: 0.2623 - val_loss: 1.7613 - val_accuracy: 0.3726\n",
            "Epoch 6/300\n",
            "79/79 [==============================] - 5s 61ms/step - loss: 2.3173 - accuracy: 0.2745 - val_loss: 1.7054 - val_accuracy: 0.3970\n",
            "Epoch 7/300\n",
            "79/79 [==============================] - 5s 61ms/step - loss: 2.2670 - accuracy: 0.2863 - val_loss: 1.6702 - val_accuracy: 0.4089\n",
            "Epoch 8/300\n",
            "79/79 [==============================] - 5s 62ms/step - loss: 2.2231 - accuracy: 0.2955 - val_loss: 1.6464 - val_accuracy: 0.4152\n",
            "Epoch 9/300\n",
            "79/79 [==============================] - 5s 62ms/step - loss: 2.1882 - accuracy: 0.3016 - val_loss: 1.6251 - val_accuracy: 0.4255\n",
            "Epoch 10/300\n",
            "79/79 [==============================] - 5s 63ms/step - loss: 2.1527 - accuracy: 0.3136 - val_loss: 1.6066 - val_accuracy: 0.4306\n",
            "Epoch 11/300\n",
            "79/79 [==============================] - 5s 63ms/step - loss: 2.1268 - accuracy: 0.3173 - val_loss: 1.5903 - val_accuracy: 0.4331\n",
            "Epoch 12/300\n",
            "79/79 [==============================] - 5s 63ms/step - loss: 2.0993 - accuracy: 0.3195 - val_loss: 1.5765 - val_accuracy: 0.4413\n",
            "Epoch 13/300\n",
            "79/79 [==============================] - 5s 63ms/step - loss: 2.0757 - accuracy: 0.3259 - val_loss: 1.5638 - val_accuracy: 0.4442\n",
            "Epoch 14/300\n",
            "79/79 [==============================] - 5s 64ms/step - loss: 2.0422 - accuracy: 0.3368 - val_loss: 1.5536 - val_accuracy: 0.4471\n",
            "Epoch 15/300\n",
            "79/79 [==============================] - 5s 64ms/step - loss: 2.0229 - accuracy: 0.3446 - val_loss: 1.5398 - val_accuracy: 0.4528\n",
            "Epoch 16/300\n",
            "79/79 [==============================] - 5s 65ms/step - loss: 2.0071 - accuracy: 0.3456 - val_loss: 1.5308 - val_accuracy: 0.4557\n",
            "Epoch 17/300\n",
            "79/79 [==============================] - 5s 64ms/step - loss: 1.9977 - accuracy: 0.3476 - val_loss: 1.5191 - val_accuracy: 0.4587\n",
            "Epoch 18/300\n",
            "79/79 [==============================] - 5s 64ms/step - loss: 1.9770 - accuracy: 0.3547 - val_loss: 1.5081 - val_accuracy: 0.4622\n",
            "Epoch 19/300\n",
            "79/79 [==============================] - 5s 64ms/step - loss: 1.9662 - accuracy: 0.3544 - val_loss: 1.4999 - val_accuracy: 0.4641\n",
            "Epoch 20/300\n",
            "79/79 [==============================] - 5s 63ms/step - loss: 1.9395 - accuracy: 0.3591 - val_loss: 1.4928 - val_accuracy: 0.4679\n",
            "Epoch 21/300\n",
            "79/79 [==============================] - 5s 63ms/step - loss: 1.9251 - accuracy: 0.3645 - val_loss: 1.4854 - val_accuracy: 0.4701\n",
            "Epoch 22/300\n",
            "79/79 [==============================] - 5s 63ms/step - loss: 1.9066 - accuracy: 0.3735 - val_loss: 1.4780 - val_accuracy: 0.4727\n",
            "Epoch 23/300\n",
            "79/79 [==============================] - 5s 63ms/step - loss: 1.9015 - accuracy: 0.3701 - val_loss: 1.4712 - val_accuracy: 0.4735\n",
            "Epoch 24/300\n",
            "79/79 [==============================] - 5s 63ms/step - loss: 1.8875 - accuracy: 0.3756 - val_loss: 1.4654 - val_accuracy: 0.4762\n",
            "Epoch 25/300\n",
            "79/79 [==============================] - 5s 63ms/step - loss: 1.8772 - accuracy: 0.3805 - val_loss: 1.4583 - val_accuracy: 0.4780\n",
            "Epoch 26/300\n",
            "79/79 [==============================] - 5s 63ms/step - loss: 1.8567 - accuracy: 0.3807 - val_loss: 1.4501 - val_accuracy: 0.4809\n",
            "Epoch 27/300\n",
            "79/79 [==============================] - 5s 63ms/step - loss: 1.8494 - accuracy: 0.3833 - val_loss: 1.4446 - val_accuracy: 0.4819\n",
            "Epoch 28/300\n",
            "79/79 [==============================] - 5s 63ms/step - loss: 1.8457 - accuracy: 0.3847 - val_loss: 1.4394 - val_accuracy: 0.4845\n",
            "Epoch 29/300\n",
            "79/79 [==============================] - 5s 64ms/step - loss: 1.8226 - accuracy: 0.3883 - val_loss: 1.4351 - val_accuracy: 0.4865\n",
            "Epoch 30/300\n",
            "79/79 [==============================] - 5s 64ms/step - loss: 1.8155 - accuracy: 0.3935 - val_loss: 1.4301 - val_accuracy: 0.4871\n",
            "Epoch 31/300\n",
            "79/79 [==============================] - 5s 65ms/step - loss: 1.8042 - accuracy: 0.3939 - val_loss: 1.4255 - val_accuracy: 0.4870\n",
            "Epoch 32/300\n",
            "79/79 [==============================] - 5s 65ms/step - loss: 1.7851 - accuracy: 0.3989 - val_loss: 1.4185 - val_accuracy: 0.4909\n",
            "Epoch 33/300\n",
            "79/79 [==============================] - 5s 65ms/step - loss: 1.7757 - accuracy: 0.4026 - val_loss: 1.4156 - val_accuracy: 0.4934\n",
            "Epoch 34/300\n",
            "79/79 [==============================] - 5s 66ms/step - loss: 1.7740 - accuracy: 0.4039 - val_loss: 1.4111 - val_accuracy: 0.4960\n",
            "Epoch 35/300\n",
            "79/79 [==============================] - 5s 65ms/step - loss: 1.7726 - accuracy: 0.4026 - val_loss: 1.4049 - val_accuracy: 0.4995\n",
            "Epoch 36/300\n",
            "79/79 [==============================] - 5s 65ms/step - loss: 1.7583 - accuracy: 0.4059 - val_loss: 1.4022 - val_accuracy: 0.5000\n",
            "Epoch 37/300\n",
            "79/79 [==============================] - 5s 65ms/step - loss: 1.7393 - accuracy: 0.4106 - val_loss: 1.3969 - val_accuracy: 0.5024\n",
            "Epoch 38/300\n",
            "79/79 [==============================] - 5s 65ms/step - loss: 1.7478 - accuracy: 0.4100 - val_loss: 1.3942 - val_accuracy: 0.5022\n",
            "Epoch 39/300\n",
            "79/79 [==============================] - 5s 65ms/step - loss: 1.7168 - accuracy: 0.4165 - val_loss: 1.3885 - val_accuracy: 0.5057\n",
            "Epoch 40/300\n",
            "79/79 [==============================] - 5s 65ms/step - loss: 1.7246 - accuracy: 0.4141 - val_loss: 1.3856 - val_accuracy: 0.5058\n",
            "Epoch 41/300\n",
            "79/79 [==============================] - 5s 65ms/step - loss: 1.7127 - accuracy: 0.4183 - val_loss: 1.3831 - val_accuracy: 0.5087\n",
            "Epoch 42/300\n",
            "79/79 [==============================] - 5s 65ms/step - loss: 1.6990 - accuracy: 0.4224 - val_loss: 1.3798 - val_accuracy: 0.5090\n",
            "Epoch 43/300\n",
            "79/79 [==============================] - 5s 65ms/step - loss: 1.7066 - accuracy: 0.4198 - val_loss: 1.3767 - val_accuracy: 0.5113\n",
            "Epoch 44/300\n",
            "79/79 [==============================] - 5s 65ms/step - loss: 1.6875 - accuracy: 0.4242 - val_loss: 1.3725 - val_accuracy: 0.5123\n",
            "Epoch 45/300\n",
            "79/79 [==============================] - 5s 65ms/step - loss: 1.6813 - accuracy: 0.4245 - val_loss: 1.3693 - val_accuracy: 0.5145\n",
            "Epoch 46/300\n",
            "79/79 [==============================] - 5s 65ms/step - loss: 1.6739 - accuracy: 0.4265 - val_loss: 1.3644 - val_accuracy: 0.5156\n",
            "Epoch 47/300\n",
            "79/79 [==============================] - 5s 65ms/step - loss: 1.6748 - accuracy: 0.4269 - val_loss: 1.3629 - val_accuracy: 0.5167\n",
            "Epoch 48/300\n",
            "79/79 [==============================] - 5s 65ms/step - loss: 1.6604 - accuracy: 0.4313 - val_loss: 1.3605 - val_accuracy: 0.5178\n",
            "Epoch 49/300\n",
            "79/79 [==============================] - 5s 65ms/step - loss: 1.6556 - accuracy: 0.4301 - val_loss: 1.3585 - val_accuracy: 0.5200\n",
            "Epoch 50/300\n",
            "79/79 [==============================] - 5s 66ms/step - loss: 1.6558 - accuracy: 0.4351 - val_loss: 1.3542 - val_accuracy: 0.5208\n",
            "Epoch 51/300\n",
            "79/79 [==============================] - 5s 66ms/step - loss: 1.6480 - accuracy: 0.4324 - val_loss: 1.3509 - val_accuracy: 0.5230\n",
            "Epoch 52/300\n",
            "79/79 [==============================] - 5s 66ms/step - loss: 1.6468 - accuracy: 0.4335 - val_loss: 1.3486 - val_accuracy: 0.5231\n",
            "Epoch 53/300\n",
            "79/79 [==============================] - 5s 66ms/step - loss: 1.6403 - accuracy: 0.4398 - val_loss: 1.3447 - val_accuracy: 0.5227\n",
            "Epoch 54/300\n",
            "79/79 [==============================] - 5s 65ms/step - loss: 1.6164 - accuracy: 0.4407 - val_loss: 1.3410 - val_accuracy: 0.5255\n",
            "Epoch 55/300\n",
            "79/79 [==============================] - 5s 65ms/step - loss: 1.6243 - accuracy: 0.4427 - val_loss: 1.3406 - val_accuracy: 0.5261\n",
            "Epoch 56/300\n",
            "79/79 [==============================] - 5s 65ms/step - loss: 1.6133 - accuracy: 0.4430 - val_loss: 1.3369 - val_accuracy: 0.5253\n",
            "Epoch 57/300\n",
            "79/79 [==============================] - 5s 65ms/step - loss: 1.5979 - accuracy: 0.4505 - val_loss: 1.3344 - val_accuracy: 0.5274\n",
            "Epoch 58/300\n",
            "79/79 [==============================] - 5s 65ms/step - loss: 1.6099 - accuracy: 0.4455 - val_loss: 1.3314 - val_accuracy: 0.5275\n",
            "Epoch 59/300\n",
            "79/79 [==============================] - 5s 65ms/step - loss: 1.5984 - accuracy: 0.4478 - val_loss: 1.3303 - val_accuracy: 0.5288\n",
            "Epoch 60/300\n",
            "79/79 [==============================] - 5s 65ms/step - loss: 1.5950 - accuracy: 0.4502 - val_loss: 1.3266 - val_accuracy: 0.5300\n",
            "Epoch 61/300\n",
            "79/79 [==============================] - 5s 65ms/step - loss: 1.5897 - accuracy: 0.4509 - val_loss: 1.3237 - val_accuracy: 0.5312\n",
            "Epoch 62/300\n",
            "79/79 [==============================] - 5s 65ms/step - loss: 1.5775 - accuracy: 0.4532 - val_loss: 1.3229 - val_accuracy: 0.5334\n",
            "Epoch 63/300\n",
            "79/79 [==============================] - 5s 65ms/step - loss: 1.5755 - accuracy: 0.4536 - val_loss: 1.3202 - val_accuracy: 0.5343\n",
            "Epoch 64/300\n",
            "79/79 [==============================] - 5s 65ms/step - loss: 1.5771 - accuracy: 0.4505 - val_loss: 1.3164 - val_accuracy: 0.5357\n",
            "Epoch 65/300\n",
            "79/79 [==============================] - 5s 65ms/step - loss: 1.5629 - accuracy: 0.4593 - val_loss: 1.3151 - val_accuracy: 0.5365\n",
            "Epoch 66/300\n",
            "79/79 [==============================] - 5s 65ms/step - loss: 1.5597 - accuracy: 0.4603 - val_loss: 1.3126 - val_accuracy: 0.5359\n",
            "Epoch 67/300\n",
            "79/79 [==============================] - 5s 65ms/step - loss: 1.5514 - accuracy: 0.4645 - val_loss: 1.3129 - val_accuracy: 0.5364\n",
            "Epoch 68/300\n",
            "79/79 [==============================] - 5s 65ms/step - loss: 1.5461 - accuracy: 0.4642 - val_loss: 1.3102 - val_accuracy: 0.5363\n",
            "Epoch 69/300\n",
            "79/79 [==============================] - 5s 65ms/step - loss: 1.5496 - accuracy: 0.4624 - val_loss: 1.3088 - val_accuracy: 0.5378\n",
            "Epoch 70/300\n",
            "79/79 [==============================] - 5s 65ms/step - loss: 1.5378 - accuracy: 0.4667 - val_loss: 1.3047 - val_accuracy: 0.5404\n",
            "Epoch 71/300\n",
            "79/79 [==============================] - 5s 65ms/step - loss: 1.5440 - accuracy: 0.4636 - val_loss: 1.3002 - val_accuracy: 0.5414\n",
            "Epoch 72/300\n",
            "79/79 [==============================] - 5s 65ms/step - loss: 1.5319 - accuracy: 0.4659 - val_loss: 1.2998 - val_accuracy: 0.5424\n",
            "Epoch 73/300\n",
            "79/79 [==============================] - 5s 65ms/step - loss: 1.5342 - accuracy: 0.4652 - val_loss: 1.2986 - val_accuracy: 0.5431\n",
            "Epoch 74/300\n",
            "79/79 [==============================] - 5s 65ms/step - loss: 1.5267 - accuracy: 0.4706 - val_loss: 1.2963 - val_accuracy: 0.5434\n",
            "Epoch 75/300\n",
            "79/79 [==============================] - 5s 65ms/step - loss: 1.5301 - accuracy: 0.4678 - val_loss: 1.2929 - val_accuracy: 0.5447\n",
            "Epoch 76/300\n",
            "79/79 [==============================] - 5s 66ms/step - loss: 1.5186 - accuracy: 0.4710 - val_loss: 1.2907 - val_accuracy: 0.5456\n",
            "Epoch 77/300\n",
            "79/79 [==============================] - 5s 66ms/step - loss: 1.5159 - accuracy: 0.4731 - val_loss: 1.2909 - val_accuracy: 0.5447\n",
            "Epoch 78/300\n",
            "79/79 [==============================] - 5s 65ms/step - loss: 1.5084 - accuracy: 0.4742 - val_loss: 1.2893 - val_accuracy: 0.5455\n",
            "Epoch 79/300\n",
            "79/79 [==============================] - 5s 65ms/step - loss: 1.5068 - accuracy: 0.4747 - val_loss: 1.2854 - val_accuracy: 0.5474\n",
            "Epoch 80/300\n",
            "79/79 [==============================] - 5s 66ms/step - loss: 1.4968 - accuracy: 0.4791 - val_loss: 1.2836 - val_accuracy: 0.5488\n",
            "Epoch 81/300\n",
            "79/79 [==============================] - 5s 66ms/step - loss: 1.5010 - accuracy: 0.4786 - val_loss: 1.2835 - val_accuracy: 0.5485\n",
            "Epoch 82/300\n",
            "79/79 [==============================] - 5s 66ms/step - loss: 1.4971 - accuracy: 0.4764 - val_loss: 1.2810 - val_accuracy: 0.5487\n",
            "Epoch 83/300\n",
            "79/79 [==============================] - 5s 66ms/step - loss: 1.4834 - accuracy: 0.4784 - val_loss: 1.2799 - val_accuracy: 0.5500\n",
            "Epoch 84/300\n",
            "79/79 [==============================] - 5s 66ms/step - loss: 1.4935 - accuracy: 0.4793 - val_loss: 1.2774 - val_accuracy: 0.5512\n",
            "Epoch 85/300\n",
            "79/79 [==============================] - 5s 65ms/step - loss: 1.4771 - accuracy: 0.4838 - val_loss: 1.2741 - val_accuracy: 0.5516\n",
            "Epoch 86/300\n",
            "79/79 [==============================] - 5s 66ms/step - loss: 1.4837 - accuracy: 0.4823 - val_loss: 1.2723 - val_accuracy: 0.5538\n",
            "Epoch 87/300\n",
            "79/79 [==============================] - 5s 66ms/step - loss: 1.4750 - accuracy: 0.4839 - val_loss: 1.2723 - val_accuracy: 0.5527\n",
            "Epoch 88/300\n",
            "79/79 [==============================] - 5s 65ms/step - loss: 1.4679 - accuracy: 0.4868 - val_loss: 1.2712 - val_accuracy: 0.5539\n",
            "Epoch 89/300\n",
            "79/79 [==============================] - 5s 65ms/step - loss: 1.4704 - accuracy: 0.4881 - val_loss: 1.2680 - val_accuracy: 0.5540\n",
            "Epoch 90/300\n",
            "79/79 [==============================] - 5s 65ms/step - loss: 1.4622 - accuracy: 0.4893 - val_loss: 1.2669 - val_accuracy: 0.5550\n",
            "Epoch 91/300\n",
            "79/79 [==============================] - 5s 65ms/step - loss: 1.4602 - accuracy: 0.4921 - val_loss: 1.2663 - val_accuracy: 0.5540\n",
            "Epoch 92/300\n",
            "79/79 [==============================] - 5s 65ms/step - loss: 1.4539 - accuracy: 0.4911 - val_loss: 1.2647 - val_accuracy: 0.5563\n",
            "Epoch 93/300\n",
            "79/79 [==============================] - 5s 65ms/step - loss: 1.4503 - accuracy: 0.4943 - val_loss: 1.2618 - val_accuracy: 0.5552\n",
            "Epoch 94/300\n",
            "79/79 [==============================] - 5s 65ms/step - loss: 1.4465 - accuracy: 0.4982 - val_loss: 1.2607 - val_accuracy: 0.5570\n",
            "Epoch 95/300\n",
            "79/79 [==============================] - 5s 66ms/step - loss: 1.4493 - accuracy: 0.4952 - val_loss: 1.2594 - val_accuracy: 0.5569\n",
            "Epoch 96/300\n",
            "79/79 [==============================] - 5s 65ms/step - loss: 1.4534 - accuracy: 0.4916 - val_loss: 1.2578 - val_accuracy: 0.5583\n",
            "Epoch 97/300\n",
            "79/79 [==============================] - 5s 65ms/step - loss: 1.4380 - accuracy: 0.4983 - val_loss: 1.2554 - val_accuracy: 0.5598\n",
            "Epoch 98/300\n",
            "79/79 [==============================] - 5s 65ms/step - loss: 1.4362 - accuracy: 0.4962 - val_loss: 1.2544 - val_accuracy: 0.5604\n",
            "Epoch 99/300\n",
            "79/79 [==============================] - 5s 66ms/step - loss: 1.4330 - accuracy: 0.4974 - val_loss: 1.2535 - val_accuracy: 0.5617\n",
            "Epoch 100/300\n",
            "79/79 [==============================] - 5s 65ms/step - loss: 1.4373 - accuracy: 0.4967 - val_loss: 1.2522 - val_accuracy: 0.5597\n",
            "Epoch 101/300\n",
            "79/79 [==============================] - 5s 65ms/step - loss: 1.4225 - accuracy: 0.4991 - val_loss: 1.2500 - val_accuracy: 0.5625\n",
            "Epoch 102/300\n",
            "79/79 [==============================] - 5s 66ms/step - loss: 1.4243 - accuracy: 0.5004 - val_loss: 1.2484 - val_accuracy: 0.5618\n",
            "Epoch 103/300\n",
            "79/79 [==============================] - 5s 65ms/step - loss: 1.4177 - accuracy: 0.5023 - val_loss: 1.2465 - val_accuracy: 0.5615\n",
            "Epoch 104/300\n",
            "79/79 [==============================] - 5s 65ms/step - loss: 1.4189 - accuracy: 0.5063 - val_loss: 1.2459 - val_accuracy: 0.5629\n",
            "Epoch 105/300\n",
            "79/79 [==============================] - 5s 66ms/step - loss: 1.4151 - accuracy: 0.5037 - val_loss: 1.2453 - val_accuracy: 0.5634\n",
            "Epoch 106/300\n",
            "79/79 [==============================] - 5s 65ms/step - loss: 1.4144 - accuracy: 0.5069 - val_loss: 1.2434 - val_accuracy: 0.5638\n",
            "Epoch 107/300\n",
            "79/79 [==============================] - 5s 66ms/step - loss: 1.4126 - accuracy: 0.5052 - val_loss: 1.2415 - val_accuracy: 0.5649\n",
            "Epoch 108/300\n",
            "79/79 [==============================] - 5s 66ms/step - loss: 1.4089 - accuracy: 0.5071 - val_loss: 1.2410 - val_accuracy: 0.5653\n",
            "Epoch 109/300\n",
            "79/79 [==============================] - 5s 66ms/step - loss: 1.4047 - accuracy: 0.5078 - val_loss: 1.2403 - val_accuracy: 0.5657\n",
            "Epoch 110/300\n",
            "79/79 [==============================] - 5s 66ms/step - loss: 1.4029 - accuracy: 0.5082 - val_loss: 1.2376 - val_accuracy: 0.5658\n",
            "Epoch 111/300\n",
            "79/79 [==============================] - 5s 66ms/step - loss: 1.4021 - accuracy: 0.5112 - val_loss: 1.2371 - val_accuracy: 0.5668\n",
            "Epoch 112/300\n",
            "79/79 [==============================] - 5s 66ms/step - loss: 1.3948 - accuracy: 0.5133 - val_loss: 1.2349 - val_accuracy: 0.5667\n",
            "Epoch 113/300\n",
            "79/79 [==============================] - 5s 66ms/step - loss: 1.3984 - accuracy: 0.5096 - val_loss: 1.2341 - val_accuracy: 0.5692\n",
            "Epoch 114/300\n",
            "79/79 [==============================] - 5s 66ms/step - loss: 1.3899 - accuracy: 0.5132 - val_loss: 1.2312 - val_accuracy: 0.5690\n",
            "Epoch 115/300\n",
            "79/79 [==============================] - 5s 66ms/step - loss: 1.3841 - accuracy: 0.5153 - val_loss: 1.2303 - val_accuracy: 0.5678\n",
            "Epoch 116/300\n",
            "79/79 [==============================] - 5s 66ms/step - loss: 1.3896 - accuracy: 0.5132 - val_loss: 1.2292 - val_accuracy: 0.5696\n",
            "Epoch 117/300\n",
            "79/79 [==============================] - 5s 66ms/step - loss: 1.3896 - accuracy: 0.5147 - val_loss: 1.2306 - val_accuracy: 0.5691\n",
            "Epoch 118/300\n",
            "79/79 [==============================] - 5s 66ms/step - loss: 1.3718 - accuracy: 0.5205 - val_loss: 1.2281 - val_accuracy: 0.5705\n",
            "Epoch 119/300\n",
            "79/79 [==============================] - 5s 67ms/step - loss: 1.3812 - accuracy: 0.5163 - val_loss: 1.2266 - val_accuracy: 0.5708\n",
            "Epoch 120/300\n",
            "79/79 [==============================] - 5s 67ms/step - loss: 1.3758 - accuracy: 0.5181 - val_loss: 1.2262 - val_accuracy: 0.5706\n",
            "Epoch 121/300\n",
            "79/79 [==============================] - 5s 66ms/step - loss: 1.3790 - accuracy: 0.5184 - val_loss: 1.2242 - val_accuracy: 0.5705\n",
            "Epoch 122/300\n",
            "79/79 [==============================] - 5s 66ms/step - loss: 1.3693 - accuracy: 0.5195 - val_loss: 1.2225 - val_accuracy: 0.5717\n",
            "Epoch 123/300\n",
            "79/79 [==============================] - 5s 67ms/step - loss: 1.3623 - accuracy: 0.5212 - val_loss: 1.2214 - val_accuracy: 0.5728\n",
            "Epoch 124/300\n",
            "79/79 [==============================] - 5s 66ms/step - loss: 1.3679 - accuracy: 0.5202 - val_loss: 1.2208 - val_accuracy: 0.5731\n",
            "Epoch 125/300\n",
            "79/79 [==============================] - 5s 66ms/step - loss: 1.3640 - accuracy: 0.5185 - val_loss: 1.2202 - val_accuracy: 0.5726\n",
            "Epoch 126/300\n",
            "79/79 [==============================] - 5s 65ms/step - loss: 1.3643 - accuracy: 0.5193 - val_loss: 1.2181 - val_accuracy: 0.5732\n",
            "Epoch 127/300\n",
            "79/79 [==============================] - 5s 66ms/step - loss: 1.3622 - accuracy: 0.5224 - val_loss: 1.2187 - val_accuracy: 0.5721\n",
            "Epoch 128/300\n",
            "79/79 [==============================] - 5s 66ms/step - loss: 1.3521 - accuracy: 0.5265 - val_loss: 1.2167 - val_accuracy: 0.5737\n",
            "Epoch 129/300\n",
            "79/79 [==============================] - 5s 66ms/step - loss: 1.3491 - accuracy: 0.5285 - val_loss: 1.2160 - val_accuracy: 0.5736\n",
            "Epoch 130/300\n",
            "79/79 [==============================] - 5s 65ms/step - loss: 1.3500 - accuracy: 0.5299 - val_loss: 1.2142 - val_accuracy: 0.5743\n",
            "Epoch 131/300\n",
            "79/79 [==============================] - 5s 66ms/step - loss: 1.3535 - accuracy: 0.5265 - val_loss: 1.2138 - val_accuracy: 0.5729\n",
            "Epoch 132/300\n",
            "79/79 [==============================] - 5s 66ms/step - loss: 1.3457 - accuracy: 0.5252 - val_loss: 1.2121 - val_accuracy: 0.5753\n",
            "Epoch 133/300\n",
            "79/79 [==============================] - 5s 66ms/step - loss: 1.3451 - accuracy: 0.5304 - val_loss: 1.2108 - val_accuracy: 0.5756\n",
            "Epoch 134/300\n",
            "79/79 [==============================] - 5s 66ms/step - loss: 1.3436 - accuracy: 0.5293 - val_loss: 1.2097 - val_accuracy: 0.5755\n",
            "Epoch 135/300\n",
            "79/79 [==============================] - 5s 66ms/step - loss: 1.3406 - accuracy: 0.5260 - val_loss: 1.2098 - val_accuracy: 0.5757\n",
            "Epoch 136/300\n",
            "79/79 [==============================] - 5s 66ms/step - loss: 1.3392 - accuracy: 0.5278 - val_loss: 1.2062 - val_accuracy: 0.5766\n",
            "Epoch 137/300\n",
            "79/79 [==============================] - 5s 66ms/step - loss: 1.3378 - accuracy: 0.5301 - val_loss: 1.2064 - val_accuracy: 0.5770\n",
            "Epoch 138/300\n",
            "79/79 [==============================] - 5s 66ms/step - loss: 1.3380 - accuracy: 0.5288 - val_loss: 1.2057 - val_accuracy: 0.5777\n",
            "Epoch 139/300\n",
            "79/79 [==============================] - 5s 66ms/step - loss: 1.3260 - accuracy: 0.5332 - val_loss: 1.2054 - val_accuracy: 0.5759\n",
            "Epoch 140/300\n",
            "79/79 [==============================] - 5s 66ms/step - loss: 1.3324 - accuracy: 0.5332 - val_loss: 1.2040 - val_accuracy: 0.5772\n",
            "Epoch 141/300\n",
            "79/79 [==============================] - 5s 66ms/step - loss: 1.3309 - accuracy: 0.5330 - val_loss: 1.2020 - val_accuracy: 0.5785\n",
            "Epoch 142/300\n",
            "79/79 [==============================] - 5s 66ms/step - loss: 1.3297 - accuracy: 0.5315 - val_loss: 1.2010 - val_accuracy: 0.5780\n",
            "Epoch 143/300\n",
            "79/79 [==============================] - 5s 66ms/step - loss: 1.3342 - accuracy: 0.5309 - val_loss: 1.2006 - val_accuracy: 0.5800\n",
            "Epoch 144/300\n",
            "79/79 [==============================] - 5s 66ms/step - loss: 1.3234 - accuracy: 0.5371 - val_loss: 1.1996 - val_accuracy: 0.5794\n",
            "Epoch 145/300\n",
            "79/79 [==============================] - 5s 66ms/step - loss: 1.3214 - accuracy: 0.5359 - val_loss: 1.1978 - val_accuracy: 0.5804\n",
            "Epoch 146/300\n",
            "79/79 [==============================] - 5s 66ms/step - loss: 1.3182 - accuracy: 0.5364 - val_loss: 1.1967 - val_accuracy: 0.5808\n",
            "Epoch 147/300\n",
            "79/79 [==============================] - 5s 66ms/step - loss: 1.3123 - accuracy: 0.5405 - val_loss: 1.1964 - val_accuracy: 0.5809\n",
            "Epoch 148/300\n",
            "79/79 [==============================] - 5s 66ms/step - loss: 1.3215 - accuracy: 0.5378 - val_loss: 1.1959 - val_accuracy: 0.5808\n",
            "Epoch 149/300\n",
            "79/79 [==============================] - 5s 66ms/step - loss: 1.3167 - accuracy: 0.5368 - val_loss: 1.1961 - val_accuracy: 0.5814\n",
            "Epoch 150/300\n",
            "79/79 [==============================] - 5s 66ms/step - loss: 1.3178 - accuracy: 0.5377 - val_loss: 1.1946 - val_accuracy: 0.5803\n",
            "Epoch 151/300\n",
            "79/79 [==============================] - 5s 66ms/step - loss: 1.3072 - accuracy: 0.5383 - val_loss: 1.1936 - val_accuracy: 0.5820\n",
            "Epoch 152/300\n",
            "79/79 [==============================] - 5s 66ms/step - loss: 1.3053 - accuracy: 0.5422 - val_loss: 1.1923 - val_accuracy: 0.5822\n",
            "Epoch 153/300\n",
            "79/79 [==============================] - 5s 66ms/step - loss: 1.3044 - accuracy: 0.5394 - val_loss: 1.1910 - val_accuracy: 0.5823\n",
            "Epoch 154/300\n",
            "79/79 [==============================] - 5s 66ms/step - loss: 1.3040 - accuracy: 0.5433 - val_loss: 1.1914 - val_accuracy: 0.5835\n",
            "Epoch 155/300\n",
            "79/79 [==============================] - 5s 66ms/step - loss: 1.2981 - accuracy: 0.5429 - val_loss: 1.1895 - val_accuracy: 0.5843\n",
            "Epoch 156/300\n",
            "79/79 [==============================] - 5s 66ms/step - loss: 1.3056 - accuracy: 0.5420 - val_loss: 1.1893 - val_accuracy: 0.5826\n",
            "Epoch 157/300\n",
            "79/79 [==============================] - 5s 66ms/step - loss: 1.3040 - accuracy: 0.5388 - val_loss: 1.1886 - val_accuracy: 0.5845\n",
            "Epoch 158/300\n",
            "79/79 [==============================] - 5s 66ms/step - loss: 1.3029 - accuracy: 0.5432 - val_loss: 1.1880 - val_accuracy: 0.5848\n",
            "Epoch 159/300\n",
            "79/79 [==============================] - 5s 66ms/step - loss: 1.2963 - accuracy: 0.5417 - val_loss: 1.1861 - val_accuracy: 0.5845\n",
            "Epoch 160/300\n",
            "79/79 [==============================] - 5s 66ms/step - loss: 1.2938 - accuracy: 0.5455 - val_loss: 1.1852 - val_accuracy: 0.5846\n",
            "Epoch 161/300\n",
            "79/79 [==============================] - 5s 66ms/step - loss: 1.2911 - accuracy: 0.5448 - val_loss: 1.1844 - val_accuracy: 0.5853\n",
            "Epoch 162/300\n",
            "79/79 [==============================] - 5s 66ms/step - loss: 1.2958 - accuracy: 0.5454 - val_loss: 1.1841 - val_accuracy: 0.5849\n",
            "Epoch 163/300\n",
            "79/79 [==============================] - 5s 66ms/step - loss: 1.2948 - accuracy: 0.5443 - val_loss: 1.1838 - val_accuracy: 0.5845\n",
            "Epoch 164/300\n",
            "79/79 [==============================] - 5s 66ms/step - loss: 1.2866 - accuracy: 0.5475 - val_loss: 1.1813 - val_accuracy: 0.5854\n",
            "Epoch 165/300\n",
            "79/79 [==============================] - 5s 66ms/step - loss: 1.2899 - accuracy: 0.5460 - val_loss: 1.1811 - val_accuracy: 0.5843\n",
            "Epoch 166/300\n",
            "79/79 [==============================] - 5s 66ms/step - loss: 1.2844 - accuracy: 0.5487 - val_loss: 1.1815 - val_accuracy: 0.5858\n",
            "Epoch 167/300\n",
            "79/79 [==============================] - 5s 66ms/step - loss: 1.2878 - accuracy: 0.5494 - val_loss: 1.1808 - val_accuracy: 0.5850\n",
            "Epoch 168/300\n",
            "79/79 [==============================] - 5s 65ms/step - loss: 1.2792 - accuracy: 0.5494 - val_loss: 1.1801 - val_accuracy: 0.5849\n",
            "Epoch 169/300\n",
            "79/79 [==============================] - 5s 66ms/step - loss: 1.2848 - accuracy: 0.5489 - val_loss: 1.1786 - val_accuracy: 0.5860\n",
            "Epoch 170/300\n",
            "79/79 [==============================] - 5s 66ms/step - loss: 1.2761 - accuracy: 0.5540 - val_loss: 1.1774 - val_accuracy: 0.5867\n",
            "Epoch 171/300\n",
            "79/79 [==============================] - 5s 66ms/step - loss: 1.2775 - accuracy: 0.5489 - val_loss: 1.1772 - val_accuracy: 0.5888\n",
            "Epoch 172/300\n",
            "79/79 [==============================] - 5s 66ms/step - loss: 1.2804 - accuracy: 0.5498 - val_loss: 1.1757 - val_accuracy: 0.5866\n",
            "Epoch 173/300\n",
            "79/79 [==============================] - 5s 66ms/step - loss: 1.2740 - accuracy: 0.5536 - val_loss: 1.1765 - val_accuracy: 0.5884\n",
            "Epoch 174/300\n",
            "79/79 [==============================] - 5s 66ms/step - loss: 1.2769 - accuracy: 0.5517 - val_loss: 1.1747 - val_accuracy: 0.5886\n",
            "Epoch 175/300\n",
            "79/79 [==============================] - 5s 66ms/step - loss: 1.2678 - accuracy: 0.5513 - val_loss: 1.1754 - val_accuracy: 0.5889\n",
            "Epoch 176/300\n",
            "79/79 [==============================] - 5s 66ms/step - loss: 1.2757 - accuracy: 0.5491 - val_loss: 1.1731 - val_accuracy: 0.5884\n",
            "Epoch 177/300\n",
            "79/79 [==============================] - 5s 66ms/step - loss: 1.2729 - accuracy: 0.5521 - val_loss: 1.1726 - val_accuracy: 0.5883\n",
            "Epoch 178/300\n",
            "79/79 [==============================] - 5s 66ms/step - loss: 1.2714 - accuracy: 0.5561 - val_loss: 1.1716 - val_accuracy: 0.5883\n",
            "Epoch 179/300\n",
            "79/79 [==============================] - 5s 66ms/step - loss: 1.2675 - accuracy: 0.5555 - val_loss: 1.1717 - val_accuracy: 0.5888\n",
            "Epoch 180/300\n",
            "79/79 [==============================] - 5s 66ms/step - loss: 1.2648 - accuracy: 0.5565 - val_loss: 1.1708 - val_accuracy: 0.5893\n",
            "Epoch 181/300\n",
            "79/79 [==============================] - 5s 66ms/step - loss: 1.2637 - accuracy: 0.5576 - val_loss: 1.1704 - val_accuracy: 0.5897\n",
            "Epoch 182/300\n",
            "79/79 [==============================] - 5s 66ms/step - loss: 1.2643 - accuracy: 0.5529 - val_loss: 1.1699 - val_accuracy: 0.5886\n",
            "Epoch 183/300\n",
            "79/79 [==============================] - 5s 66ms/step - loss: 1.2623 - accuracy: 0.5573 - val_loss: 1.1707 - val_accuracy: 0.5881\n",
            "Epoch 184/300\n",
            "79/79 [==============================] - 5s 66ms/step - loss: 1.2604 - accuracy: 0.5570 - val_loss: 1.1693 - val_accuracy: 0.5891\n",
            "Epoch 185/300\n",
            "79/79 [==============================] - 5s 66ms/step - loss: 1.2570 - accuracy: 0.5562 - val_loss: 1.1686 - val_accuracy: 0.5901\n",
            "Epoch 186/300\n",
            "79/79 [==============================] - 5s 66ms/step - loss: 1.2566 - accuracy: 0.5588 - val_loss: 1.1670 - val_accuracy: 0.5896\n",
            "Epoch 187/300\n",
            "79/79 [==============================] - 5s 66ms/step - loss: 1.2525 - accuracy: 0.5584 - val_loss: 1.1661 - val_accuracy: 0.5891\n",
            "Epoch 188/300\n",
            "79/79 [==============================] - 5s 66ms/step - loss: 1.2555 - accuracy: 0.5591 - val_loss: 1.1662 - val_accuracy: 0.5890\n",
            "Epoch 189/300\n",
            "79/79 [==============================] - 5s 66ms/step - loss: 1.2532 - accuracy: 0.5598 - val_loss: 1.1660 - val_accuracy: 0.5898\n",
            "Epoch 190/300\n",
            "79/79 [==============================] - 5s 66ms/step - loss: 1.2491 - accuracy: 0.5614 - val_loss: 1.1650 - val_accuracy: 0.5902\n",
            "Epoch 191/300\n",
            "79/79 [==============================] - 5s 66ms/step - loss: 1.2491 - accuracy: 0.5625 - val_loss: 1.1649 - val_accuracy: 0.5909\n",
            "Epoch 192/300\n",
            "79/79 [==============================] - 5s 67ms/step - loss: 1.2536 - accuracy: 0.5578 - val_loss: 1.1651 - val_accuracy: 0.5900\n",
            "Epoch 193/300\n",
            "79/79 [==============================] - 5s 66ms/step - loss: 1.2474 - accuracy: 0.5609 - val_loss: 1.1627 - val_accuracy: 0.5907\n",
            "Epoch 194/300\n",
            "79/79 [==============================] - 5s 66ms/step - loss: 1.2443 - accuracy: 0.5645 - val_loss: 1.1626 - val_accuracy: 0.5910\n",
            "Epoch 195/300\n",
            "79/79 [==============================] - 5s 66ms/step - loss: 1.2470 - accuracy: 0.5616 - val_loss: 1.1614 - val_accuracy: 0.5912\n",
            "Epoch 196/300\n",
            "79/79 [==============================] - 5s 66ms/step - loss: 1.2406 - accuracy: 0.5641 - val_loss: 1.1612 - val_accuracy: 0.5913\n",
            "Epoch 197/300\n",
            "79/79 [==============================] - 5s 66ms/step - loss: 1.2422 - accuracy: 0.5622 - val_loss: 1.1610 - val_accuracy: 0.5933\n",
            "Epoch 198/300\n",
            "79/79 [==============================] - 5s 66ms/step - loss: 1.2415 - accuracy: 0.5644 - val_loss: 1.1603 - val_accuracy: 0.5918\n",
            "Epoch 199/300\n",
            "79/79 [==============================] - 5s 66ms/step - loss: 1.2408 - accuracy: 0.5641 - val_loss: 1.1599 - val_accuracy: 0.5931\n",
            "Epoch 200/300\n",
            "79/79 [==============================] - 5s 66ms/step - loss: 1.2382 - accuracy: 0.5646 - val_loss: 1.1592 - val_accuracy: 0.5924\n",
            "Epoch 201/300\n",
            "79/79 [==============================] - 5s 66ms/step - loss: 1.2354 - accuracy: 0.5661 - val_loss: 1.1585 - val_accuracy: 0.5912\n",
            "Epoch 202/300\n",
            "79/79 [==============================] - 5s 66ms/step - loss: 1.2301 - accuracy: 0.5667 - val_loss: 1.1582 - val_accuracy: 0.5922\n",
            "Epoch 203/300\n",
            "79/79 [==============================] - 5s 66ms/step - loss: 1.2347 - accuracy: 0.5653 - val_loss: 1.1577 - val_accuracy: 0.5920\n",
            "Epoch 204/300\n",
            "79/79 [==============================] - 5s 66ms/step - loss: 1.2353 - accuracy: 0.5649 - val_loss: 1.1565 - val_accuracy: 0.5943\n",
            "Epoch 205/300\n",
            "79/79 [==============================] - 5s 66ms/step - loss: 1.2340 - accuracy: 0.5645 - val_loss: 1.1561 - val_accuracy: 0.5932\n",
            "Epoch 206/300\n",
            "79/79 [==============================] - 5s 66ms/step - loss: 1.2285 - accuracy: 0.5668 - val_loss: 1.1558 - val_accuracy: 0.5939\n",
            "Epoch 207/300\n",
            "79/79 [==============================] - 5s 66ms/step - loss: 1.2306 - accuracy: 0.5670 - val_loss: 1.1547 - val_accuracy: 0.5939\n",
            "Epoch 208/300\n",
            "79/79 [==============================] - 5s 65ms/step - loss: 1.2313 - accuracy: 0.5663 - val_loss: 1.1547 - val_accuracy: 0.5927\n",
            "Epoch 209/300\n",
            "79/79 [==============================] - 5s 66ms/step - loss: 1.2311 - accuracy: 0.5678 - val_loss: 1.1551 - val_accuracy: 0.5945\n",
            "Epoch 210/300\n",
            "79/79 [==============================] - 5s 66ms/step - loss: 1.2310 - accuracy: 0.5684 - val_loss: 1.1547 - val_accuracy: 0.5942\n",
            "Epoch 211/300\n",
            "79/79 [==============================] - 5s 66ms/step - loss: 1.2256 - accuracy: 0.5685 - val_loss: 1.1529 - val_accuracy: 0.5961\n",
            "Epoch 212/300\n",
            "79/79 [==============================] - 5s 66ms/step - loss: 1.2241 - accuracy: 0.5691 - val_loss: 1.1533 - val_accuracy: 0.5965\n",
            "Epoch 213/300\n",
            "79/79 [==============================] - 5s 66ms/step - loss: 1.2207 - accuracy: 0.5695 - val_loss: 1.1529 - val_accuracy: 0.5963\n",
            "Epoch 214/300\n",
            "79/79 [==============================] - 5s 66ms/step - loss: 1.2200 - accuracy: 0.5707 - val_loss: 1.1522 - val_accuracy: 0.5957\n",
            "Epoch 215/300\n",
            "79/79 [==============================] - 5s 66ms/step - loss: 1.2210 - accuracy: 0.5710 - val_loss: 1.1523 - val_accuracy: 0.5956\n",
            "Epoch 216/300\n",
            "79/79 [==============================] - 5s 66ms/step - loss: 1.2169 - accuracy: 0.5706 - val_loss: 1.1519 - val_accuracy: 0.5962\n",
            "Epoch 217/300\n",
            "79/79 [==============================] - 5s 66ms/step - loss: 1.2187 - accuracy: 0.5711 - val_loss: 1.1496 - val_accuracy: 0.5978\n",
            "Epoch 218/300\n",
            "79/79 [==============================] - 5s 66ms/step - loss: 1.2169 - accuracy: 0.5699 - val_loss: 1.1498 - val_accuracy: 0.5975\n",
            "Epoch 219/300\n",
            "79/79 [==============================] - 5s 66ms/step - loss: 1.2221 - accuracy: 0.5703 - val_loss: 1.1502 - val_accuracy: 0.5982\n",
            "Epoch 220/300\n",
            "79/79 [==============================] - 5s 66ms/step - loss: 1.2191 - accuracy: 0.5723 - val_loss: 1.1497 - val_accuracy: 0.5957\n",
            "Epoch 221/300\n",
            "79/79 [==============================] - 5s 66ms/step - loss: 1.2139 - accuracy: 0.5736 - val_loss: 1.1499 - val_accuracy: 0.5980\n",
            "Epoch 222/300\n",
            "79/79 [==============================] - 5s 66ms/step - loss: 1.2167 - accuracy: 0.5680 - val_loss: 1.1494 - val_accuracy: 0.5978\n",
            "Epoch 223/300\n",
            "79/79 [==============================] - 5s 66ms/step - loss: 1.2114 - accuracy: 0.5756 - val_loss: 1.1488 - val_accuracy: 0.5991\n",
            "Epoch 224/300\n",
            "79/79 [==============================] - 5s 66ms/step - loss: 1.2132 - accuracy: 0.5713 - val_loss: 1.1470 - val_accuracy: 0.5980\n",
            "Epoch 225/300\n",
            "79/79 [==============================] - 5s 66ms/step - loss: 1.2047 - accuracy: 0.5773 - val_loss: 1.1473 - val_accuracy: 0.5989\n",
            "Epoch 226/300\n",
            "79/79 [==============================] - 5s 66ms/step - loss: 1.2079 - accuracy: 0.5748 - val_loss: 1.1459 - val_accuracy: 0.5991\n",
            "Epoch 227/300\n",
            "79/79 [==============================] - 5s 66ms/step - loss: 1.2078 - accuracy: 0.5753 - val_loss: 1.1450 - val_accuracy: 0.6010\n",
            "Epoch 228/300\n",
            "79/79 [==============================] - 5s 67ms/step - loss: 1.2058 - accuracy: 0.5755 - val_loss: 1.1452 - val_accuracy: 0.5997\n",
            "Epoch 229/300\n",
            "79/79 [==============================] - 5s 66ms/step - loss: 1.2089 - accuracy: 0.5762 - val_loss: 1.1447 - val_accuracy: 0.6006\n",
            "Epoch 230/300\n",
            "79/79 [==============================] - 5s 66ms/step - loss: 1.2009 - accuracy: 0.5797 - val_loss: 1.1452 - val_accuracy: 0.5981\n",
            "Epoch 231/300\n",
            "79/79 [==============================] - 5s 67ms/step - loss: 1.2009 - accuracy: 0.5757 - val_loss: 1.1444 - val_accuracy: 0.6004\n",
            "Epoch 232/300\n",
            "79/79 [==============================] - 5s 67ms/step - loss: 1.2071 - accuracy: 0.5728 - val_loss: 1.1448 - val_accuracy: 0.5998\n",
            "Epoch 233/300\n",
            "79/79 [==============================] - 5s 67ms/step - loss: 1.2042 - accuracy: 0.5770 - val_loss: 1.1439 - val_accuracy: 0.6002\n",
            "Epoch 234/300\n",
            "79/79 [==============================] - 5s 67ms/step - loss: 1.2002 - accuracy: 0.5768 - val_loss: 1.1423 - val_accuracy: 0.6015\n",
            "Epoch 235/300\n",
            "79/79 [==============================] - 5s 67ms/step - loss: 1.2041 - accuracy: 0.5759 - val_loss: 1.1420 - val_accuracy: 0.6007\n",
            "Epoch 236/300\n",
            "79/79 [==============================] - 5s 67ms/step - loss: 1.2045 - accuracy: 0.5772 - val_loss: 1.1420 - val_accuracy: 0.6003\n",
            "Epoch 237/300\n",
            "79/79 [==============================] - 5s 67ms/step - loss: 1.1980 - accuracy: 0.5777 - val_loss: 1.1408 - val_accuracy: 0.6003\n",
            "Epoch 238/300\n",
            "79/79 [==============================] - 5s 67ms/step - loss: 1.1946 - accuracy: 0.5782 - val_loss: 1.1414 - val_accuracy: 0.6016\n",
            "Epoch 239/300\n",
            "79/79 [==============================] - 5s 66ms/step - loss: 1.1886 - accuracy: 0.5852 - val_loss: 1.1405 - val_accuracy: 0.6026\n",
            "Epoch 240/300\n",
            "79/79 [==============================] - 5s 66ms/step - loss: 1.1955 - accuracy: 0.5771 - val_loss: 1.1407 - val_accuracy: 0.6017\n",
            "Epoch 241/300\n",
            "79/79 [==============================] - 5s 66ms/step - loss: 1.1954 - accuracy: 0.5767 - val_loss: 1.1397 - val_accuracy: 0.6015\n",
            "Epoch 242/300\n",
            "79/79 [==============================] - 5s 66ms/step - loss: 1.1927 - accuracy: 0.5786 - val_loss: 1.1395 - val_accuracy: 0.6022\n",
            "Epoch 243/300\n",
            "79/79 [==============================] - 5s 66ms/step - loss: 1.1952 - accuracy: 0.5800 - val_loss: 1.1391 - val_accuracy: 0.6021\n",
            "Epoch 244/300\n",
            "79/79 [==============================] - 5s 66ms/step - loss: 1.1927 - accuracy: 0.5803 - val_loss: 1.1386 - val_accuracy: 0.6031\n",
            "Epoch 245/300\n",
            "79/79 [==============================] - 5s 66ms/step - loss: 1.1893 - accuracy: 0.5818 - val_loss: 1.1377 - val_accuracy: 0.6030\n",
            "Epoch 246/300\n",
            "79/79 [==============================] - 5s 67ms/step - loss: 1.1892 - accuracy: 0.5816 - val_loss: 1.1374 - val_accuracy: 0.6027\n",
            "Epoch 247/300\n",
            "79/79 [==============================] - 5s 66ms/step - loss: 1.1865 - accuracy: 0.5802 - val_loss: 1.1380 - val_accuracy: 0.6022\n",
            "Epoch 248/300\n",
            "79/79 [==============================] - 5s 66ms/step - loss: 1.1866 - accuracy: 0.5831 - val_loss: 1.1372 - val_accuracy: 0.6018\n",
            "Epoch 249/300\n",
            "79/79 [==============================] - 5s 66ms/step - loss: 1.1833 - accuracy: 0.5848 - val_loss: 1.1370 - val_accuracy: 0.6018\n",
            "Epoch 250/300\n",
            "79/79 [==============================] - 5s 66ms/step - loss: 1.1877 - accuracy: 0.5811 - val_loss: 1.1363 - val_accuracy: 0.6021\n",
            "Epoch 251/300\n",
            "79/79 [==============================] - 5s 66ms/step - loss: 1.1888 - accuracy: 0.5812 - val_loss: 1.1354 - val_accuracy: 0.6015\n",
            "Epoch 252/300\n",
            "79/79 [==============================] - 5s 67ms/step - loss: 1.1814 - accuracy: 0.5849 - val_loss: 1.1350 - val_accuracy: 0.6018\n",
            "Epoch 253/300\n",
            "79/79 [==============================] - 5s 66ms/step - loss: 1.1783 - accuracy: 0.5867 - val_loss: 1.1351 - val_accuracy: 0.6009\n",
            "Epoch 254/300\n",
            "79/79 [==============================] - 5s 66ms/step - loss: 1.1809 - accuracy: 0.5822 - val_loss: 1.1352 - val_accuracy: 0.6027\n"
          ],
          "name": "stdout"
        }
      ]
    },
    {
      "cell_type": "code",
      "metadata": {
        "id": "OPFPUNcJ9oJu",
        "colab": {
          "base_uri": "https://localhost:8080/"
        },
        "outputId": "b95d32b9-4df9-42b9-fe43-b41b2272977e"
      },
      "source": [
        "elapsed_time = datetime.timedelta(seconds=(time.perf_counter() - t))\n",
        "\n",
        "print('Tiempo de entrenamiento:', elapsed_time)"
      ],
      "execution_count": 23,
      "outputs": [
        {
          "output_type": "stream",
          "text": [
            "Tiempo de entrenamiento: 0:22:31.393123\n"
          ],
          "name": "stdout"
        }
      ]
    },
    {
      "cell_type": "code",
      "metadata": {
        "colab": {
          "base_uri": "https://localhost:8080/"
        },
        "id": "YVHISrKoJpOm",
        "outputId": "8d2f05de-5685-4286-f48a-5ee1c9871177"
      },
      "source": [
        "model_post_vgg.load_weights(checkpoint_filepath)"
      ],
      "execution_count": 24,
      "outputs": [
        {
          "output_type": "execute_result",
          "data": {
            "text/plain": [
              "<tensorflow.python.training.tracking.util.CheckpointLoadStatus at 0x7f4586214290>"
            ]
          },
          "metadata": {
            "tags": []
          },
          "execution_count": 24
        }
      ]
    },
    {
      "cell_type": "markdown",
      "metadata": {
        "id": "n6Byf3JG9oJu"
      },
      "source": [
        "## 6. Results Evaluation\n",
        "\n",
        "Let's obtain a graph of how the error and accuracy evolve at each epoch in the training and validation data."
      ]
    },
    {
      "cell_type": "code",
      "metadata": {
        "id": "j9IaZ3-W9oJv",
        "colab": {
          "base_uri": "https://localhost:8080/"
        },
        "outputId": "d3b94674-5b75-42e8-9796-2343244a856f"
      },
      "source": [
        "_, acc = model_post_vgg.evaluate(x_test, y_test, verbose=0)\n",
        "print('> %.3f' % (acc * 100.0))"
      ],
      "execution_count": 25,
      "outputs": [
        {
          "output_type": "stream",
          "text": [
            "> 59.100\n"
          ],
          "name": "stdout"
        }
      ]
    },
    {
      "cell_type": "code",
      "metadata": {
        "id": "GrH8OFmF9oJv",
        "colab": {
          "base_uri": "https://localhost:8080/",
          "height": 545
        },
        "outputId": "0d0c5c89-e908-4f88-ff01-3a111883220a"
      },
      "source": [
        "plt.title('Cross Entropy Loss')\n",
        "plt.plot(history.history['loss'], color='blue', label='train')\n",
        "plt.plot(history.history['val_loss'], color='orange', label='test')\n",
        "plt.show()\n",
        "\n",
        "plt.title('Classification Accuracy')\n",
        "plt.plot(history.history['accuracy'], color='blue', label='train')\n",
        "plt.plot(history.history['val_accuracy'], color='orange', label='test')\n",
        "plt.show()"
      ],
      "execution_count": 26,
      "outputs": [
        {
          "output_type": "display_data",
          "data": {
            "image/png": "[encoded data removed]",
            "text/plain": [
              "<Figure size 432x288 with 1 Axes>"
            ]
          },
          "metadata": {
            "tags": [],
            "needs_background": "light"
          }
        },
        {
          "output_type": "display_data",
          "data": {
            "image/png": "[encoded data removed]",
            "text/plain": [
              "<Figure size 432x288 with 1 Axes>"
            ]
          },
          "metadata": {
            "tags": [],
            "needs_background": "light"
          }
        }
      ]
    },
    {
      "cell_type": "markdown",
      "metadata": {
        "id": "BT7Xpz409oJv"
      },
      "source": [
        "The cost we can see that it is stable and it is at epoch 15 that it is fixed at a value. Also the accuracy dances around 0.10. We can't say that it is a very good model.\n",
        "\n",
        "Let's see what kind of predictions I'm getting on the test set (let's paint the images and their classifications)"
      ]
    },
    {
      "cell_type": "code",
      "metadata": {
        "id": "G4gqi32X9oJw"
      },
      "source": [
        "predictions = model_post_vgg.predict(x_test)"
      ],
      "execution_count": 27,
      "outputs": []
    },
    {
      "cell_type": "code",
      "metadata": {
        "id": "P02wctIA9oJw"
      },
      "source": [
        "def plot_image(i, predictions_array, true_label, img):\n",
        "  predictions_array, true_label, img = predictions_array, true_label[i], img[i]\n",
        "  plt.grid(False)\n",
        "  plt.xticks([])\n",
        "  plt.yticks([])\n",
        "\n",
        "  plt.imshow(img, cmap=plt.cm.binary)\n",
        "\n",
        "  predicted_label = np.argmax(predictions_array)\n",
        "  if predicted_label == true_label:\n",
        "    color = 'blue'\n",
        "  else:\n",
        "    color = 'red'\n",
        "\n",
        "  plt.xlabel(\"{} {:2.0f}% ({})\".format(predicted_label,\n",
        "                                100*np.max(predictions_array),\n",
        "                                true_label[0]),\n",
        "                                color=color)\n",
        "\n",
        "def plot_value_array(i, predictions_array, true_label):\n",
        "  predictions_array, true_label = predictions_array, true_label[i]\n",
        "  plt.grid(False)\n",
        "  plt.xticks(range(10))\n",
        "  plt.yticks([])\n",
        "  thisplot = plt.bar(range(10), predictions_array, color=\"#777777\")\n",
        "  plt.ylim([0, 1])\n",
        "  predicted_label = np.argmax(predictions_array)\n",
        "\n",
        "  thisplot[predicted_label].set_color('red')\n",
        "  thisplot[true_label[0]].set_color('blue')"
      ],
      "execution_count": 28,
      "outputs": []
    },
    {
      "cell_type": "markdown",
      "metadata": {
        "id": "kCoAXQ6e9oJw"
      },
      "source": [
        "We draw the first images, with the predictions and their real values (a total of 20 images, so as not to abuse your laptops).\n",
        "\n",
        "We color the correct predictions in blue and the failures in red. But first I have printed the labels so that we have a reference to the graph."
      ]
    },
    {
      "cell_type": "code",
      "metadata": {
        "id": "4jcGyOkV9oJx",
        "colab": {
          "base_uri": "https://localhost:8080/",
          "height": 899
        },
        "outputId": "233f8534-320b-4e93-884e-b72a180eefa9"
      },
      "source": [
        "i = 0\n",
        "for l in cifar10_labels:\n",
        "    print(i, l)\n",
        "    i += 1\n",
        "\n",
        "num_rows = 5\n",
        "num_cols = 4\n",
        "start = 650\n",
        "num_images = num_rows*num_cols\n",
        "plt.figure(figsize=(2*2*num_cols, 2*num_rows))\n",
        "for i in range(num_images):\n",
        "  plt.subplot(num_rows, 2*num_cols, 2*i+1)\n",
        "  plot_image(i+start, predictions[i+start], y_test, x_test)\n",
        "  plt.subplot(num_rows, 2*num_cols, 2*i+2)\n",
        "  plot_value_array(i+start, predictions[i+start], y_test)\n",
        "plt.tight_layout()\n",
        "plt.show()"
      ],
      "execution_count": 29,
      "outputs": [
        {
          "output_type": "stream",
          "text": [
            "0 airplane\n",
            "1 automobile\n",
            "2 bird\n",
            "3 cat\n",
            "4 deer\n",
            "5 dog\n",
            "6 frog\n",
            "7 horse\n",
            "8 ship\n",
            "9 truck\n"
          ],
          "name": "stdout"
        },
        {
          "output_type": "display_data",
          "data": {
            "image/png": "[encoded data removed]",
            "text/plain": [
              "<Figure size 1152x720 with 40 Axes>"
            ]
          },
          "metadata": {
            "tags": [],
            "needs_background": "light"
          }
        }
      ]
    }
  ]
}