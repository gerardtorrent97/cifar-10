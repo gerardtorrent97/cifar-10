{
  "nbformat": 4,
  "nbformat_minor": 0,
  "metadata": {
    "kernelspec": {
      "display_name": "Python 3",
      "language": "python",
      "name": "python3"
    },
    "language_info": {
      "codemirror_mode": {
        "name": "ipython",
        "version": 3
      },
      "file_extension": ".py",
      "mimetype": "text/x-python",
      "name": "python",
      "nbconvert_exporter": "python",
      "pygments_lexer": "ipython3",
      "version": "3.8.5"
    },
    "colab": {
      "name": "cnn-cifar10-tf2-v1.ipynb",
      "provenance": []
    },
    "accelerator": "GPU"
  },
  "cells": [
    {
      "cell_type": "markdown",
      "metadata": {
        "jupyter": {
          "source_hidden": true
        },
        "id": "e5awq5ZU9oJn"
      },
      "source": [
        "## 1. Import Libraries"
      ]
    },
    {
      "cell_type": "code",
      "metadata": {
        "id": "6e89W2u_9oJo"
      },
      "source": [
        "from tensorflow import keras as ks\n",
        "from matplotlib import pyplot as plt\n",
        "import numpy as np\n",
        "import pandas as pd\n",
        "import time\n",
        "import random\n",
        "import datetime\n",
        "\n",
        "from tensorflow.keras.optimizers import Adam\n",
        "from tensorflow.keras.callbacks import EarlyStopping\n",
        "from tensorflow.keras.preprocessing.image import ImageDataGenerator, load_img\n",
        "\n",
        "from tensorflow.keras.applications import vgg16\n",
        "from tensorflow.keras.models import Model"
      ],
      "execution_count": 1,
      "outputs": []
    },
    {
      "cell_type": "markdown",
      "metadata": {
        "id": "Mv1C1hrrbGKj"
      },
      "source": [
        "# 2. VGG16 for Transfer Learning\n",
        "\n",
        "We are going to load the extraction feature part from the VGG16 architecture "
      ]
    },
    {
      "cell_type": "code",
      "metadata": {
        "id": "jw0wrEpmbFgI"
      },
      "source": [
        "vgg = vgg16.VGG16(include_top=False,\n",
        "                  weights=\"imagenet\",\n",
        "                  input_shape=(32, 32, 3)\n",
        "                  )"
      ],
      "execution_count": 2,
      "outputs": []
    },
    {
      "cell_type": "code",
      "metadata": {
        "colab": {
          "base_uri": "https://localhost:8080/"
        },
        "id": "2avDfLv1b6Uw",
        "outputId": "4dfdad8d-f249-4e0f-b1e7-087bf58ab268"
      },
      "source": [
        "vgg.summary()"
      ],
      "execution_count": 3,
      "outputs": [
        {
          "output_type": "stream",
          "text": [
            "Model: \"vgg16\"\n",
            "_________________________________________________________________\n",
            "Layer (type)                 Output Shape              Param #   \n",
            "=================================================================\n",
            "input_1 (InputLayer)         [(None, 32, 32, 3)]       0         \n",
            "_________________________________________________________________\n",
            "block1_conv1 (Conv2D)        (None, 32, 32, 64)        1792      \n",
            "_________________________________________________________________\n",
            "block1_conv2 (Conv2D)        (None, 32, 32, 64)        36928     \n",
            "_________________________________________________________________\n",
            "block1_pool (MaxPooling2D)   (None, 16, 16, 64)        0         \n",
            "_________________________________________________________________\n",
            "block2_conv1 (Conv2D)        (None, 16, 16, 128)       73856     \n",
            "_________________________________________________________________\n",
            "block2_conv2 (Conv2D)        (None, 16, 16, 128)       147584    \n",
            "_________________________________________________________________\n",
            "block2_pool (MaxPooling2D)   (None, 8, 8, 128)         0         \n",
            "_________________________________________________________________\n",
            "block3_conv1 (Conv2D)        (None, 8, 8, 256)         295168    \n",
            "_________________________________________________________________\n",
            "block3_conv2 (Conv2D)        (None, 8, 8, 256)         590080    \n",
            "_________________________________________________________________\n",
            "block3_conv3 (Conv2D)        (None, 8, 8, 256)         590080    \n",
            "_________________________________________________________________\n",
            "block3_pool (MaxPooling2D)   (None, 4, 4, 256)         0         \n",
            "_________________________________________________________________\n",
            "block4_conv1 (Conv2D)        (None, 4, 4, 512)         1180160   \n",
            "_________________________________________________________________\n",
            "block4_conv2 (Conv2D)        (None, 4, 4, 512)         2359808   \n",
            "_________________________________________________________________\n",
            "block4_conv3 (Conv2D)        (None, 4, 4, 512)         2359808   \n",
            "_________________________________________________________________\n",
            "block4_pool (MaxPooling2D)   (None, 2, 2, 512)         0         \n",
            "_________________________________________________________________\n",
            "block5_conv1 (Conv2D)        (None, 2, 2, 512)         2359808   \n",
            "_________________________________________________________________\n",
            "block5_conv2 (Conv2D)        (None, 2, 2, 512)         2359808   \n",
            "_________________________________________________________________\n",
            "block5_conv3 (Conv2D)        (None, 2, 2, 512)         2359808   \n",
            "_________________________________________________________________\n",
            "block5_pool (MaxPooling2D)   (None, 1, 1, 512)         0         \n",
            "=================================================================\n",
            "Total params: 14,714,688\n",
            "Trainable params: 14,714,688\n",
            "Non-trainable params: 0\n",
            "_________________________________________________________________\n"
          ],
          "name": "stdout"
        }
      ]
    },
    {
      "cell_type": "code",
      "metadata": {
        "id": "bsRKvgWXb832"
      },
      "source": [
        "output = vgg.layers[-1].output\n",
        "new_output_layer = ks.layers.Flatten()(output)\n",
        "vgg_model = Model(vgg.input, new_output_layer)"
      ],
      "execution_count": 4,
      "outputs": []
    },
    {
      "cell_type": "code",
      "metadata": {
        "colab": {
          "base_uri": "https://localhost:8080/"
        },
        "id": "VNQ4JQmDcKhs",
        "outputId": "2e26e92b-fd7c-4018-8dd6-fe39a366c642"
      },
      "source": [
        "vgg_model.summary()"
      ],
      "execution_count": 5,
      "outputs": [
        {
          "output_type": "stream",
          "text": [
            "Model: \"model\"\n",
            "_________________________________________________________________\n",
            "Layer (type)                 Output Shape              Param #   \n",
            "=================================================================\n",
            "input_1 (InputLayer)         [(None, 32, 32, 3)]       0         \n",
            "_________________________________________________________________\n",
            "block1_conv1 (Conv2D)        (None, 32, 32, 64)        1792      \n",
            "_________________________________________________________________\n",
            "block1_conv2 (Conv2D)        (None, 32, 32, 64)        36928     \n",
            "_________________________________________________________________\n",
            "block1_pool (MaxPooling2D)   (None, 16, 16, 64)        0         \n",
            "_________________________________________________________________\n",
            "block2_conv1 (Conv2D)        (None, 16, 16, 128)       73856     \n",
            "_________________________________________________________________\n",
            "block2_conv2 (Conv2D)        (None, 16, 16, 128)       147584    \n",
            "_________________________________________________________________\n",
            "block2_pool (MaxPooling2D)   (None, 8, 8, 128)         0         \n",
            "_________________________________________________________________\n",
            "block3_conv1 (Conv2D)        (None, 8, 8, 256)         295168    \n",
            "_________________________________________________________________\n",
            "block3_conv2 (Conv2D)        (None, 8, 8, 256)         590080    \n",
            "_________________________________________________________________\n",
            "block3_conv3 (Conv2D)        (None, 8, 8, 256)         590080    \n",
            "_________________________________________________________________\n",
            "block3_pool (MaxPooling2D)   (None, 4, 4, 256)         0         \n",
            "_________________________________________________________________\n",
            "block4_conv1 (Conv2D)        (None, 4, 4, 512)         1180160   \n",
            "_________________________________________________________________\n",
            "block4_conv2 (Conv2D)        (None, 4, 4, 512)         2359808   \n",
            "_________________________________________________________________\n",
            "block4_conv3 (Conv2D)        (None, 4, 4, 512)         2359808   \n",
            "_________________________________________________________________\n",
            "block4_pool (MaxPooling2D)   (None, 2, 2, 512)         0         \n",
            "_________________________________________________________________\n",
            "block5_conv1 (Conv2D)        (None, 2, 2, 512)         2359808   \n",
            "_________________________________________________________________\n",
            "block5_conv2 (Conv2D)        (None, 2, 2, 512)         2359808   \n",
            "_________________________________________________________________\n",
            "block5_conv3 (Conv2D)        (None, 2, 2, 512)         2359808   \n",
            "_________________________________________________________________\n",
            "block5_pool (MaxPooling2D)   (None, 1, 1, 512)         0         \n",
            "_________________________________________________________________\n",
            "flatten (Flatten)            (None, 512)               0         \n",
            "=================================================================\n",
            "Total params: 14,714,688\n",
            "Trainable params: 14,714,688\n",
            "Non-trainable params: 0\n",
            "_________________________________________________________________\n"
          ],
          "name": "stdout"
        }
      ]
    },
    {
      "cell_type": "code",
      "metadata": {
        "id": "v6je5UKYcOBf"
      },
      "source": [
        "vgg_model.trainable = False\n",
        "\n",
        "for layer in vgg_model.layers:\n",
        "  layer.trainable = False\n",
        "\n",
        "trainable = False\n",
        "for layer in vgg_model.layers:\n",
        "  if layer.name == \"block4_conv1\":\n",
        "    trainable = True\n",
        "  layer.trainable = trainable"
      ],
      "execution_count": 6,
      "outputs": []
    },
    {
      "cell_type": "code",
      "metadata": {
        "colab": {
          "base_uri": "https://localhost:8080/",
          "height": 669
        },
        "id": "OytB1e3WcRlv",
        "outputId": "b2c800a9-f82d-4860-a7e5-c247d739ef9c"
      },
      "source": [
        "pd.set_option(\"max_colwidth\", None)\n",
        "layers = [(layer, layer.name, layer.trainable) for layer in vgg_model.layers]\n",
        "pd.DataFrame(layers, columns=[\"Layer Type\", \"Layer Name\", \"Layer Trainable\"])"
      ],
      "execution_count": 7,
      "outputs": [
        {
          "output_type": "execute_result",
          "data": {
            "text/html": [
              "<div>\n",
              "<style scoped>\n",
              "    .dataframe tbody tr th:only-of-type {\n",
              "        vertical-align: middle;\n",
              "    }\n",
              "\n",
              "    .dataframe tbody tr th {\n",
              "        vertical-align: top;\n",
              "    }\n",
              "\n",
              "    .dataframe thead th {\n",
              "        text-align: right;\n",
              "    }\n",
              "</style>\n",
              "<table border=\"1\" class=\"dataframe\">\n",
              "  <thead>\n",
              "    <tr style=\"text-align: right;\">\n",
              "      <th></th>\n",
              "      <th>Layer Type</th>\n",
              "      <th>Layer Name</th>\n",
              "      <th>Layer Trainable</th>\n",
              "    </tr>\n",
              "  </thead>\n",
              "  <tbody>\n",
              "    <tr>\n",
              "      <th>0</th>\n",
              "      <td>&lt;tensorflow.python.keras.engine.input_layer.InputLayer object at 0x7f3d44c21810&gt;</td>\n",
              "      <td>input_1</td>\n",
              "      <td>False</td>\n",
              "    </tr>\n",
              "    <tr>\n",
              "      <th>1</th>\n",
              "      <td>&lt;tensorflow.python.keras.layers.convolutional.Conv2D object at 0x7f3d44be47d0&gt;</td>\n",
              "      <td>block1_conv1</td>\n",
              "      <td>False</td>\n",
              "    </tr>\n",
              "    <tr>\n",
              "      <th>2</th>\n",
              "      <td>&lt;tensorflow.python.keras.layers.convolutional.Conv2D object at 0x7f3d08221d50&gt;</td>\n",
              "      <td>block1_conv2</td>\n",
              "      <td>False</td>\n",
              "    </tr>\n",
              "    <tr>\n",
              "      <th>3</th>\n",
              "      <td>&lt;tensorflow.python.keras.layers.pooling.MaxPooling2D object at 0x7f3cfeafbf10&gt;</td>\n",
              "      <td>block1_pool</td>\n",
              "      <td>False</td>\n",
              "    </tr>\n",
              "    <tr>\n",
              "      <th>4</th>\n",
              "      <td>&lt;tensorflow.python.keras.layers.convolutional.Conv2D object at 0x7f3cf01e0710&gt;</td>\n",
              "      <td>block2_conv1</td>\n",
              "      <td>False</td>\n",
              "    </tr>\n",
              "    <tr>\n",
              "      <th>5</th>\n",
              "      <td>&lt;tensorflow.python.keras.layers.convolutional.Conv2D object at 0x7f3cf01ec390&gt;</td>\n",
              "      <td>block2_conv2</td>\n",
              "      <td>False</td>\n",
              "    </tr>\n",
              "    <tr>\n",
              "      <th>6</th>\n",
              "      <td>&lt;tensorflow.python.keras.layers.pooling.MaxPooling2D object at 0x7f3cf01e0990&gt;</td>\n",
              "      <td>block2_pool</td>\n",
              "      <td>False</td>\n",
              "    </tr>\n",
              "    <tr>\n",
              "      <th>7</th>\n",
              "      <td>&lt;tensorflow.python.keras.layers.convolutional.Conv2D object at 0x7f3cf01f0f10&gt;</td>\n",
              "      <td>block3_conv1</td>\n",
              "      <td>False</td>\n",
              "    </tr>\n",
              "    <tr>\n",
              "      <th>8</th>\n",
              "      <td>&lt;tensorflow.python.keras.layers.convolutional.Conv2D object at 0x7f3cf01fa610&gt;</td>\n",
              "      <td>block3_conv2</td>\n",
              "      <td>False</td>\n",
              "    </tr>\n",
              "    <tr>\n",
              "      <th>9</th>\n",
              "      <td>&lt;tensorflow.python.keras.layers.convolutional.Conv2D object at 0x7f3cf01fd6d0&gt;</td>\n",
              "      <td>block3_conv3</td>\n",
              "      <td>False</td>\n",
              "    </tr>\n",
              "    <tr>\n",
              "      <th>10</th>\n",
              "      <td>&lt;tensorflow.python.keras.layers.pooling.MaxPooling2D object at 0x7f3cf01f0650&gt;</td>\n",
              "      <td>block3_pool</td>\n",
              "      <td>False</td>\n",
              "    </tr>\n",
              "    <tr>\n",
              "      <th>11</th>\n",
              "      <td>&lt;tensorflow.python.keras.layers.convolutional.Conv2D object at 0x7f3cf01ff910&gt;</td>\n",
              "      <td>block4_conv1</td>\n",
              "      <td>True</td>\n",
              "    </tr>\n",
              "    <tr>\n",
              "      <th>12</th>\n",
              "      <td>&lt;tensorflow.python.keras.layers.convolutional.Conv2D object at 0x7f3cf020f050&gt;</td>\n",
              "      <td>block4_conv2</td>\n",
              "      <td>True</td>\n",
              "    </tr>\n",
              "    <tr>\n",
              "      <th>13</th>\n",
              "      <td>&lt;tensorflow.python.keras.layers.convolutional.Conv2D object at 0x7f3cf01ffb10&gt;</td>\n",
              "      <td>block4_conv3</td>\n",
              "      <td>True</td>\n",
              "    </tr>\n",
              "    <tr>\n",
              "      <th>14</th>\n",
              "      <td>&lt;tensorflow.python.keras.layers.pooling.MaxPooling2D object at 0x7f3cf01e05d0&gt;</td>\n",
              "      <td>block4_pool</td>\n",
              "      <td>True</td>\n",
              "    </tr>\n",
              "    <tr>\n",
              "      <th>15</th>\n",
              "      <td>&lt;tensorflow.python.keras.layers.convolutional.Conv2D object at 0x7f3d41164e50&gt;</td>\n",
              "      <td>block5_conv1</td>\n",
              "      <td>True</td>\n",
              "    </tr>\n",
              "    <tr>\n",
              "      <th>16</th>\n",
              "      <td>&lt;tensorflow.python.keras.layers.convolutional.Conv2D object at 0x7f3cfec62bd0&gt;</td>\n",
              "      <td>block5_conv2</td>\n",
              "      <td>True</td>\n",
              "    </tr>\n",
              "    <tr>\n",
              "      <th>17</th>\n",
              "      <td>&lt;tensorflow.python.keras.layers.convolutional.Conv2D object at 0x7f3cfec2be10&gt;</td>\n",
              "      <td>block5_conv3</td>\n",
              "      <td>True</td>\n",
              "    </tr>\n",
              "    <tr>\n",
              "      <th>18</th>\n",
              "      <td>&lt;tensorflow.python.keras.layers.pooling.MaxPooling2D object at 0x7f3d05728a90&gt;</td>\n",
              "      <td>block5_pool</td>\n",
              "      <td>True</td>\n",
              "    </tr>\n",
              "    <tr>\n",
              "      <th>19</th>\n",
              "      <td>&lt;tensorflow.python.keras.layers.core.Flatten object at 0x7f3cf01ecd10&gt;</td>\n",
              "      <td>flatten</td>\n",
              "      <td>True</td>\n",
              "    </tr>\n",
              "  </tbody>\n",
              "</table>\n",
              "</div>"
            ],
            "text/plain": [
              "                                                                          Layer Type  ... Layer Trainable\n",
              "0   <tensorflow.python.keras.engine.input_layer.InputLayer object at 0x7f3d44c21810>  ...           False\n",
              "1     <tensorflow.python.keras.layers.convolutional.Conv2D object at 0x7f3d44be47d0>  ...           False\n",
              "2     <tensorflow.python.keras.layers.convolutional.Conv2D object at 0x7f3d08221d50>  ...           False\n",
              "3     <tensorflow.python.keras.layers.pooling.MaxPooling2D object at 0x7f3cfeafbf10>  ...           False\n",
              "4     <tensorflow.python.keras.layers.convolutional.Conv2D object at 0x7f3cf01e0710>  ...           False\n",
              "5     <tensorflow.python.keras.layers.convolutional.Conv2D object at 0x7f3cf01ec390>  ...           False\n",
              "6     <tensorflow.python.keras.layers.pooling.MaxPooling2D object at 0x7f3cf01e0990>  ...           False\n",
              "7     <tensorflow.python.keras.layers.convolutional.Conv2D object at 0x7f3cf01f0f10>  ...           False\n",
              "8     <tensorflow.python.keras.layers.convolutional.Conv2D object at 0x7f3cf01fa610>  ...           False\n",
              "9     <tensorflow.python.keras.layers.convolutional.Conv2D object at 0x7f3cf01fd6d0>  ...           False\n",
              "10    <tensorflow.python.keras.layers.pooling.MaxPooling2D object at 0x7f3cf01f0650>  ...           False\n",
              "11    <tensorflow.python.keras.layers.convolutional.Conv2D object at 0x7f3cf01ff910>  ...            True\n",
              "12    <tensorflow.python.keras.layers.convolutional.Conv2D object at 0x7f3cf020f050>  ...            True\n",
              "13    <tensorflow.python.keras.layers.convolutional.Conv2D object at 0x7f3cf01ffb10>  ...            True\n",
              "14    <tensorflow.python.keras.layers.pooling.MaxPooling2D object at 0x7f3cf01e05d0>  ...            True\n",
              "15    <tensorflow.python.keras.layers.convolutional.Conv2D object at 0x7f3d41164e50>  ...            True\n",
              "16    <tensorflow.python.keras.layers.convolutional.Conv2D object at 0x7f3cfec62bd0>  ...            True\n",
              "17    <tensorflow.python.keras.layers.convolutional.Conv2D object at 0x7f3cfec2be10>  ...            True\n",
              "18    <tensorflow.python.keras.layers.pooling.MaxPooling2D object at 0x7f3d05728a90>  ...            True\n",
              "19            <tensorflow.python.keras.layers.core.Flatten object at 0x7f3cf01ecd10>  ...            True\n",
              "\n",
              "[20 rows x 3 columns]"
            ]
          },
          "metadata": {
            "tags": []
          },
          "execution_count": 7
        }
      ]
    },
    {
      "cell_type": "markdown",
      "metadata": {
        "id": "6_dptlpJ9oJp"
      },
      "source": [
        "## 2. Neural Newtork Architecture\n"
      ]
    },
    {
      "cell_type": "code",
      "metadata": {
        "colab": {
          "base_uri": "https://localhost:8080/"
        },
        "id": "2QdNlU2cdGx8",
        "outputId": "d7ad47b8-8f5c-4299-cf6e-45adfde96a46"
      },
      "source": [
        "input_shape = vgg_model.output_shape[1]\n",
        "print(f\"Input shape: {input_shape}\")"
      ],
      "execution_count": 8,
      "outputs": [
        {
          "output_type": "stream",
          "text": [
            "Input shape: 512\n"
          ],
          "name": "stdout"
        }
      ]
    },
    {
      "cell_type": "code",
      "metadata": {
        "id": "JoDemzDV9oJp"
      },
      "source": [
        "model_post_vgg = ks.Sequential()\n",
        "\n",
        "model_post_vgg.add(vgg_model)\n",
        "\n",
        "model_post_vgg.add(ks.layers.Dense(512, activation=\"relu\", input_shape=(input_shape,)))\n",
        "model_post_vgg.add(ks.layers.Dropout(0.4))\n",
        "\n",
        "model_post_vgg.add(ks.layers.Dense(512, activation=\"relu\"))\n",
        "model_post_vgg.add(ks.layers.Dropout(0.4))\n",
        "\n",
        "model_post_vgg.add(ks.layers.Dense(1028, activation=\"relu\"))\n",
        "model_post_vgg.add(ks.layers.Dropout(0.4))\n",
        "\n",
        "model_post_vgg.add(ks.layers.Dense(10, activation=\"softmax\"))"
      ],
      "execution_count": 9,
      "outputs": []
    },
    {
      "cell_type": "code",
      "metadata": {
        "id": "QPzKurY89oJq",
        "colab": {
          "base_uri": "https://localhost:8080/"
        },
        "outputId": "44be6ff1-e02c-40c6-c741-b12f9815a63c"
      },
      "source": [
        "model_post_vgg.summary()"
      ],
      "execution_count": 10,
      "outputs": [
        {
          "output_type": "stream",
          "text": [
            "Model: \"sequential\"\n",
            "_________________________________________________________________\n",
            "Layer (type)                 Output Shape              Param #   \n",
            "=================================================================\n",
            "model (Functional)           (None, 512)               14714688  \n",
            "_________________________________________________________________\n",
            "dense (Dense)                (None, 512)               262656    \n",
            "_________________________________________________________________\n",
            "dropout (Dropout)            (None, 512)               0         \n",
            "_________________________________________________________________\n",
            "dense_1 (Dense)              (None, 512)               262656    \n",
            "_________________________________________________________________\n",
            "dropout_1 (Dropout)          (None, 512)               0         \n",
            "_________________________________________________________________\n",
            "dense_2 (Dense)              (None, 1028)              527364    \n",
            "_________________________________________________________________\n",
            "dropout_2 (Dropout)          (None, 1028)              0         \n",
            "_________________________________________________________________\n",
            "dense_3 (Dense)              (None, 10)                10290     \n",
            "=================================================================\n",
            "Total params: 15,777,654\n",
            "Trainable params: 1,062,966\n",
            "Non-trainable params: 14,714,688\n",
            "_________________________________________________________________\n"
          ],
          "name": "stdout"
        }
      ]
    },
    {
      "cell_type": "markdown",
      "metadata": {
        "id": "Y6bEaf7l9oJq"
      },
      "source": [
        "## 3. Cost function\n"
      ]
    },
    {
      "cell_type": "code",
      "metadata": {
        "id": "iKnB28w0diit"
      },
      "source": [
        "adam = Adam(learning_rate=2e-5)"
      ],
      "execution_count": 11,
      "outputs": []
    },
    {
      "cell_type": "code",
      "metadata": {
        "id": "eDfwXObn9oJr"
      },
      "source": [
        "model_post_vgg.compile(optimizer=adam,\n",
        "              loss=\"sparse_categorical_crossentropy\",\n",
        "              metrics=[\"accuracy\"])"
      ],
      "execution_count": 12,
      "outputs": []
    },
    {
      "cell_type": "markdown",
      "metadata": {
        "id": "qHBg7wfE9oJr"
      },
      "source": [
        "## 4. Data Preparation\n",
        "\n",
        "We load the CIFAR10 dataset directly from Keras. Those are already split in train and test.\n",
        "\n",
        "\n",
        "**Important:** \n",
        "> The neural network requires for the inputs to be real numbers. We can simply achieve this by divinding the values inside the matrices by 255.0."
      ]
    },
    {
      "cell_type": "code",
      "metadata": {
        "id": "9mZWEbQc9oJr"
      },
      "source": [
        "cifar10 = ks.datasets.cifar10\n",
        "\n",
        "(x_train, y_train), (x_test, y_test) = cifar10.load_data()\n",
        "\n",
        "#x_train, x_test = x_train / 255.0, x_test / 255.0"
      ],
      "execution_count": 13,
      "outputs": []
    },
    {
      "cell_type": "code",
      "metadata": {
        "id": "j8A9za5z9oJr",
        "colab": {
          "base_uri": "https://localhost:8080/"
        },
        "outputId": "6a0f7aec-b95b-419a-f89b-04aa4f2714a8"
      },
      "source": [
        "y_train_label = y_train\n",
        "\n",
        "#y_test = ks.utils.to_categorical(y_test)\n",
        "#y_train = ks.utils.to_categorical(y_train)\n",
        "\n",
        "y_test\n",
        "y_train"
      ],
      "execution_count": 14,
      "outputs": [
        {
          "output_type": "execute_result",
          "data": {
            "text/plain": [
              "array([[6],\n",
              "       [9],\n",
              "       [9],\n",
              "       ...,\n",
              "       [9],\n",
              "       [1],\n",
              "       [1]], dtype=uint8)"
            ]
          },
          "metadata": {
            "tags": []
          },
          "execution_count": 14
        }
      ]
    },
    {
      "cell_type": "code",
      "metadata": {
        "id": "EJR1ydE99oJs",
        "colab": {
          "base_uri": "https://localhost:8080/"
        },
        "outputId": "a18f69d5-b1e3-48b7-f279-15492716d746"
      },
      "source": [
        "cifar10_labels = [\n",
        "'airplane', # id 0\n",
        "'automobile',\n",
        "'bird',\n",
        "'cat',\n",
        "'deer',\n",
        "'dog',\n",
        "'frog',\n",
        "'horse',\n",
        "'ship',\n",
        "'truck',\n",
        "]\n",
        "\n",
        "print('Number of labels: %s' % len(cifar10_labels))"
      ],
      "execution_count": 15,
      "outputs": [
        {
          "output_type": "stream",
          "text": [
            "Number of labels: 10\n"
          ],
          "name": "stdout"
        }
      ]
    },
    {
      "cell_type": "code",
      "metadata": {
        "id": "9-Dk8dgQ9oJs",
        "colab": {
          "base_uri": "https://localhost:8080/",
          "height": 315
        },
        "outputId": "81f878b4-77a7-4c4e-f9e3-6473d04e5bb7"
      },
      "source": [
        "# Let's plot a sample of the images\n",
        "\n",
        "print('Train: X=%s, y=%s' % (x_train.shape, y_train.shape))\n",
        "print('Test: X=%s, y=%s' % (x_test.shape, y_test.shape))\n",
        "\n",
        "for i in range(9):\n",
        "\n",
        "    plt.subplot(330 + 1 + i)\n",
        "    plt.imshow(x_train[i], cmap=plt.get_cmap('gray'))\n",
        "    plt.title(cifar10_labels[y_train_label[i,0]])\n",
        "\n",
        "plt.subplots_adjust(hspace = 1)\n",
        "plt.show()"
      ],
      "execution_count": 16,
      "outputs": [
        {
          "output_type": "stream",
          "text": [
            "Train: X=(50000, 32, 32, 3), y=(50000, 1)\n",
            "Test: X=(10000, 32, 32, 3), y=(10000, 1)\n"
          ],
          "name": "stdout"
        },
        {
          "output_type": "display_data",
          "data": {
            "image/png": "[encoded data removed]",
            "text/plain": [
              "<Figure size 432x288 with 9 Axes>"
            ]
          },
          "metadata": {
            "tags": [],
            "needs_background": "light"
          }
        }
      ]
    },
    {
      "cell_type": "code",
      "metadata": {
        "id": "ll_ESZXN9oJt"
      },
      "source": [
        "x_val = x_train[-10000:]\n",
        "y_val = y_train[-10000:]\n",
        "\n",
        "x_train = x_train[:-10000]\n",
        "y_train = y_train[:-10000]\n"
      ],
      "execution_count": 17,
      "outputs": []
    },
    {
      "cell_type": "markdown",
      "metadata": {
        "id": "857gyhgz9oJt"
      },
      "source": [
        "When we add convolutions, we need to preprocess the data, because **convolution is for an array of 4 fields** (more like \"images\"), not an array of 3 dimensions as the datasets for train, test and validation. So we need to **.reshape()**.\n",
        "\n",
        "That's why, when you exit the convolution, you have to flatten the matrices, because the FullDense layers expect arrays, not matrices!\n"
      ]
    },
    {
      "cell_type": "code",
      "metadata": {
        "id": "GsD9N7Jf9oJt",
        "colab": {
          "base_uri": "https://localhost:8080/"
        },
        "outputId": "2b320597-9524-46e9-ab41-af7a61964806"
      },
      "source": [
        "# Let's validate the results\n",
        "print('Train: X=%s, y=%s' % (x_train.shape, y_train.shape))\n",
        "print('Test: X=%s, y=%s' % (x_test.shape, y_test.shape))\n",
        "print('Validation: X=%s, y=%s' % (x_val.shape, y_val.shape))"
      ],
      "execution_count": 18,
      "outputs": [
        {
          "output_type": "stream",
          "text": [
            "Train: X=(40000, 32, 32, 3), y=(40000, 1)\n",
            "Test: X=(10000, 32, 32, 3), y=(10000, 1)\n",
            "Validation: X=(10000, 32, 32, 3), y=(10000, 1)\n"
          ],
          "name": "stdout"
        }
      ]
    },
    {
      "cell_type": "markdown",
      "metadata": {
        "id": "RS5qn76YhnHE"
      },
      "source": [
        "# 4. Early Stopping & Checkpoint"
      ]
    },
    {
      "cell_type": "code",
      "metadata": {
        "id": "utspmyp9hmQc"
      },
      "source": [
        "callback_loss = EarlyStopping(monitor=\"val_loss\", patience=10)\n",
        "callback_accuracy = EarlyStopping(monitor=\"val_accuracy\", patience=5)"
      ],
      "execution_count": 19,
      "outputs": []
    },
    {
      "cell_type": "code",
      "metadata": {
        "id": "YvT7bA24JWn_"
      },
      "source": [
        "checkpoint_filepath = '/tmp/checkpoint'\n",
        "model_checkpoint_callback = ks.callbacks.ModelCheckpoint(\n",
        "    filepath=checkpoint_filepath,\n",
        "    save_weights_only=True,\n",
        "    monitor='val_accuracy',\n",
        "    mode='max',\n",
        "    save_best_only=True)"
      ],
      "execution_count": 20,
      "outputs": []
    },
    {
      "cell_type": "markdown",
      "metadata": {
        "id": "XMO0nJz8G2dh"
      },
      "source": [
        "# 5. Data Augmentation"
      ]
    },
    {
      "cell_type": "code",
      "metadata": {
        "id": "h09coY5HG5gz"
      },
      "source": [
        "y_train_rshape = y_train.ravel()\n",
        "y_val_rshape = y_val.ravel()\n",
        "y_test_rshape = y_test.ravel()"
      ],
      "execution_count": 21,
      "outputs": []
    },
    {
      "cell_type": "code",
      "metadata": {
        "id": "XF_u54yXG8VK"
      },
      "source": [
        "from sklearn.preprocessing import LabelEncoder\n",
        "le = LabelEncoder()\n",
        "le.fit(y_train_rshape)\n",
        "y_train_encoded = le.transform(y_train_rshape)\n",
        "y_val_encoded = le.transform(y_val_rshape)\n",
        "y_test_encoded = le.transform(y_test_rshape)"
      ],
      "execution_count": 22,
      "outputs": []
    },
    {
      "cell_type": "code",
      "metadata": {
        "id": "Xffz1nOsG_C2"
      },
      "source": [
        "train_datagen = ImageDataGenerator(\n",
        "    rescale=1./255,\n",
        "    rotation_range=15,\n",
        "    zoom_range=0.15,\n",
        "    shear_range=0.2,\n",
        "    horizontal_flip=True,\n",
        "    width_shift_range=0.15,\n",
        "    height_shift_range=0.15,\n",
        "    brightness_range=[0.8,1.2]\n",
        "    )\n",
        "\n",
        "train_generator = train_datagen.flow(\n",
        "    x_train, \n",
        "    y_train_encoded, \n",
        "    batch_size=400\n",
        ")"
      ],
      "execution_count": 23,
      "outputs": []
    },
    {
      "cell_type": "code",
      "metadata": {
        "id": "4pCgo1rcHBNf"
      },
      "source": [
        "validation_datagen = ImageDataGenerator(\n",
        "    rescale=1./255\n",
        "    )\n",
        "validation_generator = validation_datagen.flow(\n",
        "    x_val, \n",
        "    y_val_encoded, \n",
        "    batch_size=100\n",
        ")\n",
        "\n",
        "test_datagen = ImageDataGenerator(\n",
        "    rescale=1./255\n",
        "    )\n",
        "test_generator = test_datagen.flow(\n",
        "    x_test, \n",
        "    y_test_encoded,\n",
        "    batch_size=100\n",
        ")"
      ],
      "execution_count": 24,
      "outputs": []
    },
    {
      "cell_type": "code",
      "metadata": {
        "id": "rGcRuPSCHE3I"
      },
      "source": [
        "sample = random.choice(range(0,4999))\n",
        "\n",
        "example_generator = train_datagen.flow(\n",
        "    x_train[sample:sample+1],\n",
        "    y_train_encoded[sample:sample+1],\n",
        "    batch_size=20\n",
        ")"
      ],
      "execution_count": 25,
      "outputs": []
    },
    {
      "cell_type": "code",
      "metadata": {
        "id": "EAc8ZOpeHFbD",
        "colab": {
          "base_uri": "https://localhost:8080/",
          "height": 873
        },
        "outputId": "5672f929-ce83-4864-b10e-4e53f661ddd9"
      },
      "source": [
        "plt.figure(figsize=(12,12))\n",
        "for i in range(0,15):\n",
        "  plt.subplot(5, 3, i+1)\n",
        "  for X, Y in example_generator:\n",
        "    image = X[0]\n",
        "    plt.imshow(image)\n",
        "    plt.title(Y[0])\n",
        "    break\n",
        "plt.tight_layout()\n",
        "plt.show()"
      ],
      "execution_count": 26,
      "outputs": [
        {
          "output_type": "display_data",
          "data": {
            "image/png": "[encoded data removed]",
            "text/plain": [
              "<Figure size 864x864 with 15 Axes>"
            ]
          },
          "metadata": {
            "tags": [],
            "needs_background": "light"
          }
        }
      ]
    },
    {
      "cell_type": "markdown",
      "metadata": {
        "id": "x4CSQVcD9oJu"
      },
      "source": [
        "## 5. Training\n",
        "\n",
        "Note that we have to train against the data converted to the format expected by the Convolution.\n",
        "\n",
        "We will start with 30 epochs, that is to say, 30 complete passes of the dataset (which in turn will be with mini-batches internally, setting the batches to 64 elements.\n",
        "\n",
        "The .fit() method allows us to define if we have several CPUs, GPUs, and if we want to validate data at each end of epoch."
      ]
    },
    {
      "cell_type": "code",
      "metadata": {
        "id": "WVDxMUFK9oJu"
      },
      "source": [
        "t = time.perf_counter()"
      ],
      "execution_count": 27,
      "outputs": []
    },
    {
      "cell_type": "code",
      "metadata": {
        "id": "ecp-nOVj9oJu",
        "colab": {
          "base_uri": "https://localhost:8080/"
        },
        "outputId": "56d0a668-08ca-4a4e-9248-60bbda2394a2"
      },
      "source": [
        "history = model_post_vgg.fit(train_generator,\n",
        "                    validation_data=validation_generator,\n",
        "                    steps_per_epoch=100,\n",
        "                    validation_steps=100,\n",
        "                    epochs=300,\n",
        "                    use_multiprocessing=False,\n",
        "                    callbacks=[callback_accuracy, callback_loss, model_checkpoint_callback]\n",
        "                    )"
      ],
      "execution_count": 28,
      "outputs": [
        {
          "output_type": "stream",
          "text": [
            "Epoch 1/300\n",
            "100/100 [==============================] - 32s 270ms/step - loss: 2.3388 - accuracy: 0.1112 - val_loss: 2.2368 - val_accuracy: 0.2159\n",
            "Epoch 2/300\n",
            "100/100 [==============================] - 26s 261ms/step - loss: 2.2660 - accuracy: 0.1488 - val_loss: 2.1565 - val_accuracy: 0.2965\n",
            "Epoch 3/300\n",
            "100/100 [==============================] - 26s 261ms/step - loss: 2.1967 - accuracy: 0.1875 - val_loss: 2.0572 - val_accuracy: 0.3388\n",
            "Epoch 4/300\n",
            "100/100 [==============================] - 26s 262ms/step - loss: 2.1183 - accuracy: 0.2227 - val_loss: 1.9481 - val_accuracy: 0.3660\n",
            "Epoch 5/300\n",
            "100/100 [==============================] - 26s 262ms/step - loss: 2.0324 - accuracy: 0.2544 - val_loss: 1.8559 - val_accuracy: 0.3751\n",
            "Epoch 6/300\n",
            "100/100 [==============================] - 26s 263ms/step - loss: 1.9680 - accuracy: 0.2808 - val_loss: 1.7765 - val_accuracy: 0.3890\n",
            "Epoch 7/300\n",
            "100/100 [==============================] - 26s 263ms/step - loss: 1.9154 - accuracy: 0.3014 - val_loss: 1.7153 - val_accuracy: 0.4078\n",
            "Epoch 8/300\n",
            "100/100 [==============================] - 26s 260ms/step - loss: 1.8653 - accuracy: 0.3232 - val_loss: 1.6637 - val_accuracy: 0.4203\n",
            "Epoch 9/300\n",
            "100/100 [==============================] - 26s 263ms/step - loss: 1.8283 - accuracy: 0.3368 - val_loss: 1.6253 - val_accuracy: 0.4298\n",
            "Epoch 10/300\n",
            "100/100 [==============================] - 26s 261ms/step - loss: 1.7948 - accuracy: 0.3496 - val_loss: 1.5881 - val_accuracy: 0.4440\n",
            "Epoch 11/300\n",
            "100/100 [==============================] - 26s 263ms/step - loss: 1.7644 - accuracy: 0.3638 - val_loss: 1.5624 - val_accuracy: 0.4514\n",
            "Epoch 12/300\n",
            "100/100 [==============================] - 26s 261ms/step - loss: 1.7400 - accuracy: 0.3708 - val_loss: 1.5387 - val_accuracy: 0.4584\n",
            "Epoch 13/300\n",
            "100/100 [==============================] - 26s 262ms/step - loss: 1.7161 - accuracy: 0.3869 - val_loss: 1.5185 - val_accuracy: 0.4651\n",
            "Epoch 14/300\n",
            "100/100 [==============================] - 26s 261ms/step - loss: 1.6990 - accuracy: 0.3882 - val_loss: 1.4992 - val_accuracy: 0.4725\n",
            "Epoch 15/300\n",
            "100/100 [==============================] - 26s 262ms/step - loss: 1.6828 - accuracy: 0.3946 - val_loss: 1.4841 - val_accuracy: 0.4766\n",
            "Epoch 16/300\n",
            "100/100 [==============================] - 26s 263ms/step - loss: 1.6636 - accuracy: 0.4060 - val_loss: 1.4707 - val_accuracy: 0.4792\n",
            "Epoch 17/300\n",
            "100/100 [==============================] - 26s 263ms/step - loss: 1.6564 - accuracy: 0.4076 - val_loss: 1.4570 - val_accuracy: 0.4854\n",
            "Epoch 18/300\n",
            "100/100 [==============================] - 26s 264ms/step - loss: 1.6409 - accuracy: 0.4144 - val_loss: 1.4478 - val_accuracy: 0.4890\n",
            "Epoch 19/300\n",
            "100/100 [==============================] - 26s 263ms/step - loss: 1.6221 - accuracy: 0.4195 - val_loss: 1.4347 - val_accuracy: 0.4908\n",
            "Epoch 20/300\n",
            "100/100 [==============================] - 26s 263ms/step - loss: 1.6210 - accuracy: 0.4208 - val_loss: 1.4281 - val_accuracy: 0.4945\n",
            "Epoch 21/300\n",
            "100/100 [==============================] - 26s 264ms/step - loss: 1.6064 - accuracy: 0.4263 - val_loss: 1.4175 - val_accuracy: 0.4978\n",
            "Epoch 22/300\n",
            "100/100 [==============================] - 26s 262ms/step - loss: 1.6014 - accuracy: 0.4329 - val_loss: 1.4100 - val_accuracy: 0.5013\n",
            "Epoch 23/300\n",
            "100/100 [==============================] - 26s 262ms/step - loss: 1.5936 - accuracy: 0.4322 - val_loss: 1.4073 - val_accuracy: 0.5009\n",
            "Epoch 24/300\n",
            "100/100 [==============================] - 26s 261ms/step - loss: 1.5824 - accuracy: 0.4366 - val_loss: 1.3963 - val_accuracy: 0.5057\n",
            "Epoch 25/300\n",
            "100/100 [==============================] - 26s 262ms/step - loss: 1.5763 - accuracy: 0.4395 - val_loss: 1.3889 - val_accuracy: 0.5069\n",
            "Epoch 26/300\n",
            "100/100 [==============================] - 26s 263ms/step - loss: 1.5641 - accuracy: 0.4448 - val_loss: 1.3853 - val_accuracy: 0.5090\n",
            "Epoch 27/300\n",
            "100/100 [==============================] - 27s 266ms/step - loss: 1.5552 - accuracy: 0.4439 - val_loss: 1.3776 - val_accuracy: 0.5124\n",
            "Epoch 28/300\n",
            "100/100 [==============================] - 26s 263ms/step - loss: 1.5501 - accuracy: 0.4489 - val_loss: 1.3704 - val_accuracy: 0.5159\n",
            "Epoch 29/300\n",
            "100/100 [==============================] - 26s 263ms/step - loss: 1.5454 - accuracy: 0.4496 - val_loss: 1.3664 - val_accuracy: 0.5168\n",
            "Epoch 30/300\n",
            "100/100 [==============================] - 26s 264ms/step - loss: 1.5380 - accuracy: 0.4509 - val_loss: 1.3596 - val_accuracy: 0.5178\n",
            "Epoch 31/300\n",
            "100/100 [==============================] - 26s 261ms/step - loss: 1.5313 - accuracy: 0.4579 - val_loss: 1.3562 - val_accuracy: 0.5199\n",
            "Epoch 32/300\n",
            "100/100 [==============================] - 26s 262ms/step - loss: 1.5240 - accuracy: 0.4573 - val_loss: 1.3485 - val_accuracy: 0.5219\n",
            "Epoch 33/300\n",
            "100/100 [==============================] - 26s 263ms/step - loss: 1.5203 - accuracy: 0.4614 - val_loss: 1.3475 - val_accuracy: 0.5226\n",
            "Epoch 34/300\n",
            "100/100 [==============================] - 26s 261ms/step - loss: 1.5137 - accuracy: 0.4632 - val_loss: 1.3387 - val_accuracy: 0.5246\n",
            "Epoch 35/300\n",
            "100/100 [==============================] - 26s 261ms/step - loss: 1.5103 - accuracy: 0.4645 - val_loss: 1.3391 - val_accuracy: 0.5248\n",
            "Epoch 36/300\n",
            "100/100 [==============================] - 26s 263ms/step - loss: 1.5059 - accuracy: 0.4658 - val_loss: 1.3368 - val_accuracy: 0.5240\n",
            "Epoch 37/300\n",
            "100/100 [==============================] - 26s 262ms/step - loss: 1.5035 - accuracy: 0.4685 - val_loss: 1.3275 - val_accuracy: 0.5298\n",
            "Epoch 38/300\n",
            "100/100 [==============================] - 26s 262ms/step - loss: 1.4960 - accuracy: 0.4716 - val_loss: 1.3237 - val_accuracy: 0.5304\n",
            "Epoch 39/300\n",
            "100/100 [==============================] - 26s 263ms/step - loss: 1.4917 - accuracy: 0.4712 - val_loss: 1.3213 - val_accuracy: 0.5302\n",
            "Epoch 40/300\n",
            "100/100 [==============================] - 26s 261ms/step - loss: 1.4889 - accuracy: 0.4733 - val_loss: 1.3164 - val_accuracy: 0.5344\n",
            "Epoch 41/300\n",
            "100/100 [==============================] - 26s 263ms/step - loss: 1.4808 - accuracy: 0.4765 - val_loss: 1.3167 - val_accuracy: 0.5326\n",
            "Epoch 42/300\n",
            "100/100 [==============================] - 26s 263ms/step - loss: 1.4828 - accuracy: 0.4755 - val_loss: 1.3110 - val_accuracy: 0.5352\n",
            "Epoch 43/300\n",
            "100/100 [==============================] - 26s 263ms/step - loss: 1.4810 - accuracy: 0.4773 - val_loss: 1.3077 - val_accuracy: 0.5365\n",
            "Epoch 44/300\n",
            "100/100 [==============================] - 26s 264ms/step - loss: 1.4743 - accuracy: 0.4794 - val_loss: 1.3042 - val_accuracy: 0.5384\n",
            "Epoch 45/300\n",
            "100/100 [==============================] - 27s 265ms/step - loss: 1.4724 - accuracy: 0.4782 - val_loss: 1.3025 - val_accuracy: 0.5388\n",
            "Epoch 46/300\n",
            "100/100 [==============================] - 27s 266ms/step - loss: 1.4703 - accuracy: 0.4801 - val_loss: 1.2995 - val_accuracy: 0.5389\n",
            "Epoch 47/300\n",
            "100/100 [==============================] - 27s 266ms/step - loss: 1.4610 - accuracy: 0.4839 - val_loss: 1.3008 - val_accuracy: 0.5383\n",
            "Epoch 48/300\n",
            "100/100 [==============================] - 26s 264ms/step - loss: 1.4603 - accuracy: 0.4862 - val_loss: 1.2938 - val_accuracy: 0.5414\n",
            "Epoch 49/300\n",
            "100/100 [==============================] - 27s 266ms/step - loss: 1.4540 - accuracy: 0.4872 - val_loss: 1.2887 - val_accuracy: 0.5438\n",
            "Epoch 50/300\n",
            "100/100 [==============================] - 27s 266ms/step - loss: 1.4499 - accuracy: 0.4873 - val_loss: 1.2842 - val_accuracy: 0.5459\n",
            "Epoch 51/300\n",
            "100/100 [==============================] - 27s 267ms/step - loss: 1.4504 - accuracy: 0.4887 - val_loss: 1.2858 - val_accuracy: 0.5434\n",
            "Epoch 52/300\n",
            "100/100 [==============================] - 26s 264ms/step - loss: 1.4455 - accuracy: 0.4895 - val_loss: 1.2832 - val_accuracy: 0.5460\n",
            "Epoch 53/300\n",
            "100/100 [==============================] - 26s 264ms/step - loss: 1.4498 - accuracy: 0.4880 - val_loss: 1.2816 - val_accuracy: 0.5443\n",
            "Epoch 54/300\n",
            "100/100 [==============================] - 27s 266ms/step - loss: 1.4453 - accuracy: 0.4866 - val_loss: 1.2782 - val_accuracy: 0.5469\n",
            "Epoch 55/300\n",
            "100/100 [==============================] - 26s 264ms/step - loss: 1.4390 - accuracy: 0.4937 - val_loss: 1.2726 - val_accuracy: 0.5488\n",
            "Epoch 56/300\n",
            "100/100 [==============================] - 26s 265ms/step - loss: 1.4353 - accuracy: 0.4917 - val_loss: 1.2727 - val_accuracy: 0.5490\n",
            "Epoch 57/300\n",
            "100/100 [==============================] - 27s 266ms/step - loss: 1.4316 - accuracy: 0.4966 - val_loss: 1.2714 - val_accuracy: 0.5489\n",
            "Epoch 58/300\n",
            "100/100 [==============================] - 26s 265ms/step - loss: 1.4310 - accuracy: 0.4956 - val_loss: 1.2689 - val_accuracy: 0.5501\n",
            "Epoch 59/300\n",
            "100/100 [==============================] - 27s 266ms/step - loss: 1.4240 - accuracy: 0.4978 - val_loss: 1.2652 - val_accuracy: 0.5513\n",
            "Epoch 60/300\n",
            "100/100 [==============================] - 27s 266ms/step - loss: 1.4259 - accuracy: 0.4955 - val_loss: 1.2663 - val_accuracy: 0.5498\n",
            "Epoch 61/300\n",
            "100/100 [==============================] - 26s 264ms/step - loss: 1.4210 - accuracy: 0.4969 - val_loss: 1.2654 - val_accuracy: 0.5524\n",
            "Epoch 62/300\n",
            "100/100 [==============================] - 27s 265ms/step - loss: 1.4151 - accuracy: 0.4998 - val_loss: 1.2616 - val_accuracy: 0.5540\n",
            "Epoch 63/300\n",
            "100/100 [==============================] - 27s 266ms/step - loss: 1.4238 - accuracy: 0.4979 - val_loss: 1.2599 - val_accuracy: 0.5538\n",
            "Epoch 64/300\n",
            "100/100 [==============================] - 26s 265ms/step - loss: 1.4194 - accuracy: 0.5015 - val_loss: 1.2557 - val_accuracy: 0.5565\n",
            "Epoch 65/300\n",
            "100/100 [==============================] - 27s 265ms/step - loss: 1.4141 - accuracy: 0.5029 - val_loss: 1.2566 - val_accuracy: 0.5554\n",
            "Epoch 66/300\n",
            "100/100 [==============================] - 27s 266ms/step - loss: 1.4086 - accuracy: 0.5020 - val_loss: 1.2540 - val_accuracy: 0.5569\n",
            "Epoch 67/300\n",
            "100/100 [==============================] - 27s 266ms/step - loss: 1.4083 - accuracy: 0.5027 - val_loss: 1.2500 - val_accuracy: 0.5603\n",
            "Epoch 68/300\n",
            "100/100 [==============================] - 27s 266ms/step - loss: 1.4042 - accuracy: 0.5034 - val_loss: 1.2455 - val_accuracy: 0.5607\n",
            "Epoch 69/300\n",
            "100/100 [==============================] - 27s 266ms/step - loss: 1.4055 - accuracy: 0.5001 - val_loss: 1.2496 - val_accuracy: 0.5588\n",
            "Epoch 70/300\n",
            "100/100 [==============================] - 26s 265ms/step - loss: 1.4047 - accuracy: 0.5067 - val_loss: 1.2466 - val_accuracy: 0.5596\n",
            "Epoch 71/300\n",
            "100/100 [==============================] - 26s 263ms/step - loss: 1.4032 - accuracy: 0.5068 - val_loss: 1.2436 - val_accuracy: 0.5614\n",
            "Epoch 72/300\n",
            "100/100 [==============================] - 26s 265ms/step - loss: 1.3997 - accuracy: 0.5035 - val_loss: 1.2464 - val_accuracy: 0.5612\n",
            "Epoch 73/300\n",
            "100/100 [==============================] - 26s 264ms/step - loss: 1.3939 - accuracy: 0.5080 - val_loss: 1.2442 - val_accuracy: 0.5622\n",
            "Epoch 74/300\n",
            "100/100 [==============================] - 26s 264ms/step - loss: 1.3967 - accuracy: 0.5063 - val_loss: 1.2410 - val_accuracy: 0.5626\n",
            "Epoch 75/300\n",
            "100/100 [==============================] - 26s 265ms/step - loss: 1.3918 - accuracy: 0.5088 - val_loss: 1.2332 - val_accuracy: 0.5668\n",
            "Epoch 76/300\n",
            "100/100 [==============================] - 26s 265ms/step - loss: 1.3832 - accuracy: 0.5111 - val_loss: 1.2348 - val_accuracy: 0.5668\n",
            "Epoch 77/300\n",
            "100/100 [==============================] - 26s 264ms/step - loss: 1.3948 - accuracy: 0.5099 - val_loss: 1.2361 - val_accuracy: 0.5654\n",
            "Epoch 78/300\n",
            "100/100 [==============================] - 26s 263ms/step - loss: 1.3836 - accuracy: 0.5116 - val_loss: 1.2356 - val_accuracy: 0.5637\n",
            "Epoch 79/300\n",
            "100/100 [==============================] - 26s 263ms/step - loss: 1.3850 - accuracy: 0.5134 - val_loss: 1.2335 - val_accuracy: 0.5648\n",
            "Epoch 80/300\n",
            "100/100 [==============================] - 26s 260ms/step - loss: 1.3781 - accuracy: 0.5105 - val_loss: 1.2350 - val_accuracy: 0.5648\n"
          ],
          "name": "stdout"
        }
      ]
    },
    {
      "cell_type": "code",
      "metadata": {
        "id": "OPFPUNcJ9oJu",
        "colab": {
          "base_uri": "https://localhost:8080/"
        },
        "outputId": "dc0dcafd-4622-429d-ae02-ff7e1ce45820"
      },
      "source": [
        "elapsed_time = datetime.timedelta(seconds=(time.perf_counter() - t))\n",
        "\n",
        "print('Tiempo de entrenamiento:', elapsed_time)"
      ],
      "execution_count": 29,
      "outputs": [
        {
          "output_type": "stream",
          "text": [
            "Tiempo de entrenamiento: 0:35:40.462989\n"
          ],
          "name": "stdout"
        }
      ]
    },
    {
      "cell_type": "code",
      "metadata": {
        "colab": {
          "base_uri": "https://localhost:8080/"
        },
        "id": "YVHISrKoJpOm",
        "outputId": "ff01f587-91d5-4068-d7cd-14bdaf9d2cc1"
      },
      "source": [
        "model_post_vgg.load_weights(checkpoint_filepath)"
      ],
      "execution_count": 30,
      "outputs": [
        {
          "output_type": "execute_result",
          "data": {
            "text/plain": [
              "<tensorflow.python.training.tracking.util.CheckpointLoadStatus at 0x7f3c876fd5d0>"
            ]
          },
          "metadata": {
            "tags": []
          },
          "execution_count": 30
        }
      ]
    },
    {
      "cell_type": "markdown",
      "metadata": {
        "id": "n6Byf3JG9oJu"
      },
      "source": [
        "## 6. Results Evaluation\n",
        "\n",
        "Let's obtain a graph of how the error and accuracy evolve at each epoch in the training and validation data."
      ]
    },
    {
      "cell_type": "code",
      "metadata": {
        "id": "j9IaZ3-W9oJv",
        "colab": {
          "base_uri": "https://localhost:8080/"
        },
        "outputId": "fe1699c1-b7f3-4d33-da62-885f34500bf2"
      },
      "source": [
        "_, acc = model_post_vgg.evaluate(test_generator, verbose=0)\n",
        "print('> %.3f' % (acc * 100.0))"
      ],
      "execution_count": 31,
      "outputs": [
        {
          "output_type": "stream",
          "text": [
            "> 56.130\n"
          ],
          "name": "stdout"
        }
      ]
    },
    {
      "cell_type": "code",
      "metadata": {
        "id": "GrH8OFmF9oJv",
        "outputId": "3df57240-3497-44e0-9617-6fa6b1633d75",
        "colab": {
          "base_uri": "https://localhost:8080/",
          "height": 545
        }
      },
      "source": [
        "plt.title('Cross Entropy Loss')\n",
        "plt.plot(history.history['loss'], color='blue', label='train')\n",
        "plt.plot(history.history['val_loss'], color='orange', label='test')\n",
        "plt.show()\n",
        "\n",
        "plt.title('Classification Accuracy')\n",
        "plt.plot(history.history['accuracy'], color='blue', label='train')\n",
        "plt.plot(history.history['val_accuracy'], color='orange', label='test')\n",
        "plt.show()"
      ],
      "execution_count": 32,
      "outputs": [
        {
          "output_type": "display_data",
          "data": {
            "image/png": "[encoded data removed]",
            "text/plain": [
              "<Figure size 432x288 with 1 Axes>"
            ]
          },
          "metadata": {
            "tags": [],
            "needs_background": "light"
          }
        },
        {
          "output_type": "display_data",
          "data": {
            "image/png": "[encoded data removed]",
            "text/plain": [
              "<Figure size 432x288 with 1 Axes>"
            ]
          },
          "metadata": {
            "tags": [],
            "needs_background": "light"
          }
        }
      ]
    },
    {
      "cell_type": "markdown",
      "metadata": {
        "id": "BT7Xpz409oJv"
      },
      "source": [
        "The cost we can see that it is stable and it is at epoch 15 that it is fixed at a value. Also the accuracy dances around 0.10. We can't say that it is a very good model.\n",
        "\n",
        "Let's see what kind of predictions I'm getting on the test set (let's paint the images and their classifications)"
      ]
    },
    {
      "cell_type": "code",
      "metadata": {
        "id": "G4gqi32X9oJw",
        "outputId": "ba04be53-1a18-472c-f665-d65a12faf791",
        "colab": {
          "base_uri": "https://localhost:8080/",
          "height": 164
        }
      },
      "source": [
        "predictions = model_post_vgg.predict(x_test_scaled)"
      ],
      "execution_count": 33,
      "outputs": [
        {
          "output_type": "error",
          "ename": "NameError",
          "evalue": "ignored",
          "traceback": [
            "\u001b[0;31m---------------------------------------------------------------------------\u001b[0m",
            "\u001b[0;31mNameError\u001b[0m                                 Traceback (most recent call last)",
            "\u001b[0;32m<ipython-input-33-3b9cc85dcc96>\u001b[0m in \u001b[0;36m<module>\u001b[0;34m()\u001b[0m\n\u001b[0;32m----> 1\u001b[0;31m \u001b[0mpredictions\u001b[0m \u001b[0;34m=\u001b[0m \u001b[0mmodel_post_vgg\u001b[0m\u001b[0;34m.\u001b[0m\u001b[0mpredict\u001b[0m\u001b[0;34m(\u001b[0m\u001b[0mx_test_scaled\u001b[0m\u001b[0;34m)\u001b[0m\u001b[0;34m\u001b[0m\u001b[0;34m\u001b[0m\u001b[0m\n\u001b[0m",
            "\u001b[0;31mNameError\u001b[0m: name 'x_test_scaled' is not defined"
          ]
        }
      ]
    },
    {
      "cell_type": "code",
      "metadata": {
        "id": "P02wctIA9oJw"
      },
      "source": [
        "def plot_image(i, predictions_array, true_label, img):\n",
        "  predictions_array, true_label, img = predictions_array, true_label[i], img[i]\n",
        "  plt.grid(False)\n",
        "  plt.xticks([])\n",
        "  plt.yticks([])\n",
        "\n",
        "  plt.imshow(img, cmap=plt.cm.binary)\n",
        "\n",
        "  predicted_label = np.argmax(predictions_array)\n",
        "  if predicted_label == true_label:\n",
        "    color = 'blue'\n",
        "  else:\n",
        "    color = 'red'\n",
        "\n",
        "  plt.xlabel(\"{} {:2.0f}% ({})\".format(predicted_label,\n",
        "                                100*np.max(predictions_array),\n",
        "                                true_label[0]),\n",
        "                                color=color)\n",
        "\n",
        "def plot_value_array(i, predictions_array, true_label):\n",
        "  predictions_array, true_label = predictions_array, true_label[i]\n",
        "  plt.grid(False)\n",
        "  plt.xticks(range(10))\n",
        "  plt.yticks([])\n",
        "  thisplot = plt.bar(range(10), predictions_array, color=\"#777777\")\n",
        "  plt.ylim([0, 1])\n",
        "  predicted_label = np.argmax(predictions_array)\n",
        "\n",
        "  thisplot[predicted_label].set_color('red')\n",
        "  thisplot[true_label[0]].set_color('blue')"
      ],
      "execution_count": null,
      "outputs": []
    },
    {
      "cell_type": "markdown",
      "metadata": {
        "id": "kCoAXQ6e9oJw"
      },
      "source": [
        "We draw the first images, with the predictions and their real values (a total of 20 images, so as not to abuse your laptops).\n",
        "\n",
        "We color the correct predictions in blue and the failures in red. But first I have printed the labels so that we have a reference to the graph."
      ]
    },
    {
      "cell_type": "code",
      "metadata": {
        "id": "4jcGyOkV9oJx"
      },
      "source": [
        "i = 0\n",
        "for l in cifar10_labels:\n",
        "    print(i, l)\n",
        "    i += 1\n",
        "\n",
        "num_rows = 5\n",
        "num_cols = 4\n",
        "start = 650\n",
        "num_images = num_rows*num_cols\n",
        "plt.figure(figsize=(2*2*num_cols, 2*num_rows))\n",
        "for i in range(num_images):\n",
        "  plt.subplot(num_rows, 2*num_cols, 2*i+1)\n",
        "  plot_image(i+start, predictions[i+start], y_test, x_test)\n",
        "  plt.subplot(num_rows, 2*num_cols, 2*i+2)\n",
        "  plot_value_array(i+start, predictions[i+start], y_test)\n",
        "plt.tight_layout()\n",
        "plt.show()"
      ],
      "execution_count": null,
      "outputs": []
    }
  ]
}